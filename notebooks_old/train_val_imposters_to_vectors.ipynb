{
 "cells": [
  {
   "cell_type": "code",
   "execution_count": 1,
   "metadata": {
    "collapsed": true
   },
   "outputs": [],
   "source": [
    "import sys\n",
    "sys.path.append(\"..\")\n",
    "\n",
    "from src.text_chunk import TextChunk\n",
    "from src.stylometry_extractor import StylometryExtractor"
   ]
  },
  {
   "cell_type": "code",
   "execution_count": 2,
   "metadata": {
    "collapsed": true
   },
   "outputs": [],
   "source": [
    "import pandas as pd\n",
    "\n",
    "train = pd.read_csv('../data/train_chunks.csv', header=None, names=['A','B','different_author'])\n",
    "val = pd.read_csv('../data/validation_chunks.csv', header=None, names=['A','B','different_author'])"
   ]
  },
  {
   "cell_type": "code",
   "execution_count": null,
   "metadata": {
    "collapsed": true
   },
   "outputs": [],
   "source": [
    "# write feature names to csv\n",
    "feature_names = TextChunk(train['A'][0]).feature_names\n",
    "\n",
    "pd.DataFrame(data=feature_names).to_csv('../data/500_ngrams/feature_names.csv')"
   ]
  },
  {
   "cell_type": "code",
   "execution_count": 26,
   "metadata": {},
   "outputs": [
    {
     "name": "stdout",
     "output_type": "stream",
     "text": [
      "Number of features:  935\n"
     ]
    }
   ],
   "source": [
    "number_of_features = len((train['A'][0]))\n",
    "print('Number of features: ', number_of_features)\n",
    "\n",
    "a_columns_names = ['A_{}'.format(i) for i in range(number_of_features)]\n",
    "b_columns_names = ['B_{}'.format(i) for i in range(number_of_features)]\n",
    "\n",
    "# Transform train data and write as csv\n",
    "\n",
    "train['A'] = train['A'].apply(lambda text: TextChunk(text).to_vector())\n",
    "train['B'] = train['B'].apply(lambda text: TextChunk(text).to_vector())\n",
    "\n",
    "train_vectors = pd.concat([pd.DataFrame(train['A'].tolist(), columns=a_columns_names),\n",
    "                           pd.DataFrame(train['B'].tolist(), columns=b_columns_names),\n",
    "                           train['different_author']],\n",
    "                           axis=1)\n",
    "\n",
    "train_vectors.to_csv('../data/500_ngrams/train_features.csv')\n",
    "\n",
    "# Transform val data and write as csv\n",
    "\n",
    "val['A'] = val['A'].apply(lambda text: TextChunk(text).to_vector())\n",
    "val['B'] = val['B'].apply(lambda text: TextChunk(text).to_vector())\n",
    "\n",
    "val_vectors = pd.concat([pd.DataFrame(val['A'].tolist(), columns=a_columns_names),\n",
    "                         pd.DataFrame(val['B'].tolist(), columns=b_columns_names),\n",
    "                         val['different_author']],\n",
    "                         axis=1)\n",
    "\n",
    "val_vectors.to_csv('../data/500_ngrams/validation_features.csv')"
   ]
  },
  {
   "cell_type": "markdown",
   "metadata": {},
   "source": [
    "imposters:"
   ]
  },
  {
   "cell_type": "code",
   "execution_count": 31,
   "metadata": {
    "collapsed": true
   },
   "outputs": [],
   "source": [
    "imposters = pd.read_csv('../data/imposters.csv', index_col=0)"
   ]
  },
  {
   "cell_type": "code",
   "execution_count": 43,
   "metadata": {},
   "outputs": [],
   "source": [
    "# there were some imposters that had numbers instead of text\n",
    "corrupted_imposters_indices = [6872, 6876]\n",
    "imposters.drop(corrupted_imposters_indices, inplace=True)"
   ]
  },
  {
   "cell_type": "code",
   "execution_count": 72,
   "metadata": {},
   "outputs": [],
   "source": [
    "# remove imposters with len < 400\n",
    "\n",
    "imposters = imposters[imposters['text'].apply(lambda x: len(x) > 400)]"
   ]
  },
  {
   "cell_type": "code",
   "execution_count": 74,
   "metadata": {},
   "outputs": [
    {
     "name": "stderr",
     "output_type": "stream",
     "text": [
      "/usr/local/anaconda3/lib/python3.6/site-packages/ipykernel_launcher.py:1: SettingWithCopyWarning: \n",
      "A value is trying to be set on a copy of a slice from a DataFrame.\n",
      "Try using .loc[row_indexer,col_indexer] = value instead\n",
      "\n",
      "See the caveats in the documentation: http://pandas.pydata.org/pandas-docs/stable/indexing.html#indexing-view-versus-copy\n",
      "  \"\"\"Entry point for launching an IPython kernel.\n"
     ]
    }
   ],
   "source": [
    "imposters['features'] = imposters['text'].apply(lambda text: TextChunk(text).to_vector())"
   ]
  },
  {
   "cell_type": "code",
   "execution_count": 75,
   "metadata": {
    "collapsed": true
   },
   "outputs": [],
   "source": [
    "imposters_column_names = ['I_{}'.format(i) for i in range(number_of_features)]\n",
    "\n",
    "imposters_vectors = pd.DataFrame(imposters['features'].tolist(), columns=imposters_column_names)\n",
    "imposters_vectors.to_csv('../data/imposters/imposters_features.csv')"
   ]
  },
  {
   "cell_type": "code",
   "execution_count": null,
   "metadata": {
    "collapsed": true
   },
   "outputs": [],
   "source": []
  }
 ],
 "metadata": {
  "kernelspec": {
   "display_name": "Python 3",
   "language": "python",
   "name": "python3"
  },
  "language_info": {
   "codemirror_mode": {
    "name": "ipython",
    "version": 3
   },
   "file_extension": ".py",
   "mimetype": "text/x-python",
   "name": "python",
   "nbconvert_exporter": "python",
   "pygments_lexer": "ipython3",
   "version": "3.6.1"
  }
 },
 "nbformat": 4,
 "nbformat_minor": 2
}
