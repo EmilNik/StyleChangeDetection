{
 "cells": [
  {
   "cell_type": "code",
   "execution_count": 5,
   "metadata": {},
   "outputs": [],
   "source": [
    "import sys\n",
    "sys.path.append(\"..\")\n",
    "\n",
    "from src.text_chunk import TextChunk\n",
    "from src.stylometry_extractor import StylometryExtractor"
   ]
  },
  {
   "cell_type": "code",
   "execution_count": null,
   "metadata": {
    "collapsed": true
   },
   "outputs": [],
   "source": [
    "import os\n",
    "import itertools\n",
    "\n",
    "data = []\n",
    "path = '../data/train_raw'\n",
    "\n",
    "for i in itertools.count(start=1):\n",
    "    try:\n",
    "        text = open(os.path.join(path, 'problem-' + str(i) + '.txt'), 'r').read()\n",
    "        data.append(TextChunk(text))\n",
    "    except FileNotFoundError:\n",
    "        break"
   ]
  },
  {
   "cell_type": "code",
   "execution_count": 6,
   "metadata": {},
   "outputs": [],
   "source": [
    "counters = [chunk.all_trigrams for chunk in data]"
   ]
  },
  {
   "cell_type": "code",
   "execution_count": 21,
   "metadata": {},
   "outputs": [],
   "source": [
    "from functools import reduce\n",
    "\n",
    "trigram_counts = reduce(lambda c1, c2: c1 + c2, counters)"
   ]
  },
  {
   "cell_type": "code",
   "execution_count": 42,
   "metadata": {},
   "outputs": [],
   "source": [
    "most_common_trigrams = trigram_counts.most_common(100)\n",
    "most_common_trigrams = list(map(lambda x: x[0], most_common_trigrams))"
   ]
  },
  {
   "cell_type": "code",
   "execution_count": 44,
   "metadata": {},
   "outputs": [],
   "source": [
    "import csv\n",
    "\n",
    "with open('../data/most_common_pos_tag_trigrams.csv', 'w') as myfile:\n",
    "    wr = csv.writer(myfile, quoting=csv.QUOTE_ALL)\n",
    "    \n",
    "    for trigrams in most_common_trigrams:\n",
    "        wr.writerow(trigrams)"
   ]
  },
  {
   "cell_type": "code",
   "execution_count": 50,
   "metadata": {},
   "outputs": [],
   "source": [
    "with open('../data/most_common_pos_tag_trigrams.csv', 'r') as f:\n",
    "    POS_TAG_TRIGRAMS = []\n",
    "    reader = csv.reader(f)\n",
    "    for line in reader:\n",
    "        POS_TAG_TRIGRAMS.append(line)"
   ]
  },
  {
   "cell_type": "code",
   "execution_count": 51,
   "metadata": {},
   "outputs": [
    {
     "data": {
      "text/plain": [
       "[('IN', 'DT', 'NN'),\n",
       " ('DT', 'NN', 'IN'),\n",
       " ('DT', 'JJ', 'NN'),\n",
       " ('NN', 'IN', 'DT'),\n",
       " ('IN', 'DT', 'JJ'),\n",
       " ('JJ', 'NN', 'IN'),\n",
       " ('NN', 'IN', 'NN'),\n",
       " ('DT', 'NN', 'NN'),\n",
       " ('VB', 'DT', 'NN'),\n",
       " ('PRP', 'MD', 'VB'),\n",
       " ('DT', 'NN', '__END__'),\n",
       " ('IN', 'DT', 'NNP'),\n",
       " ('NNP', 'NNP', 'NNP'),\n",
       " ('DT', 'NN', 'VBZ'),\n",
       " ('TO', 'VB', 'DT'),\n",
       " ('JJ', 'NN', '__END__'),\n",
       " ('NNS', 'IN', 'DT'),\n",
       " ('NN', 'TO', 'VB'),\n",
       " ('IN', 'PRP', 'VBP'),\n",
       " ('VBZ', 'DT', 'NN'),\n",
       " ('IN', 'DT', 'NNS'),\n",
       " ('NN', 'IN', 'NNP'),\n",
       " ('JJ', 'NNS', 'IN'),\n",
       " ('VBN', 'IN', 'DT'),\n",
       " ('JJ', 'NN', 'NN'),\n",
       " ('IN', 'JJ', 'NNS'),\n",
       " ('IN', 'NN', 'IN'),\n",
       " ('NN', 'IN', 'JJ'),\n",
       " ('DT', 'NN', 'CC'),\n",
       " ('__START__', 'DT', 'NN'),\n",
       " ('IN', 'PRP$', 'NN'),\n",
       " ('IN', 'JJ', 'NN'),\n",
       " ('NN', 'NN', '__END__'),\n",
       " ('DT', 'NNP', 'NNP'),\n",
       " ('TO', 'VB', 'IN'),\n",
       " ('NN', 'MD', 'VB'),\n",
       " ('NN', 'NN', 'IN'),\n",
       " ('IN', 'NNP', 'NNP'),\n",
       " ('NN', 'IN', 'PRP'),\n",
       " ('__START__', 'IN', 'DT'),\n",
       " ('NN', 'IN', 'NNS'),\n",
       " ('DT', 'NNS', 'IN'),\n",
       " ('MD', 'RB', 'VB'),\n",
       " ('NN', 'CC', 'NN'),\n",
       " ('RB', 'IN', 'DT'),\n",
       " ('DT', 'JJ', 'NNS'),\n",
       " ('VB', 'DT', 'JJ'),\n",
       " ('JJ', 'NN', 'CC'),\n",
       " ('VBZ', 'DT', 'JJ'),\n",
       " ('IN', 'NN', '__END__'),\n",
       " ('MD', 'VB', 'DT'),\n",
       " ('VBG', 'DT', 'NN'),\n",
       " ('__START__', 'PRP', 'VBP'),\n",
       " ('NN', 'NN', 'NN'),\n",
       " ('VB', 'IN', 'DT'),\n",
       " ('NN', 'VBZ', 'RB'),\n",
       " ('RB', 'DT', 'NN'),\n",
       " ('DT', 'NN', 'TO'),\n",
       " ('JJ', 'TO', 'VB'),\n",
       " ('PRP', 'VBP', 'DT'),\n",
       " ('TO', 'DT', 'NN'),\n",
       " ('NN', 'VBZ', 'DT'),\n",
       " ('JJ', 'JJ', 'NN'),\n",
       " ('JJ', 'NNS', '__END__'),\n",
       " ('NNS', 'IN', 'NN'),\n",
       " ('VBP', 'DT', 'NN'),\n",
       " ('JJ', 'IN', 'DT'),\n",
       " ('JJ', 'NN', 'VBZ'),\n",
       " ('MD', 'VB', 'VBN'),\n",
       " ('NN', 'IN', 'VBG'),\n",
       " ('NNP', 'IN', 'NNP'),\n",
       " ('DT', 'NN', 'RB'),\n",
       " ('VBD', 'DT', 'NN'),\n",
       " ('NNP', 'IN', 'DT'),\n",
       " ('DT', 'NNP', 'NN'),\n",
       " ('VBP', 'TO', 'VB'),\n",
       " ('IN', 'PRP', 'VBZ'),\n",
       " ('NN', 'IN', 'PRP$'),\n",
       " ('DT', 'NN', 'PRP'),\n",
       " ('NN', 'DT', 'NN'),\n",
       " ('NN', 'PRP', 'VBP'),\n",
       " ('IN', 'NN', 'CC'),\n",
       " ('MD', 'VB', 'IN'),\n",
       " ('NNP', 'NNP', 'IN'),\n",
       " ('IN', 'NN', 'NN'),\n",
       " ('__START__', 'DT', 'JJ'),\n",
       " ('NN', 'CC', 'DT'),\n",
       " ('CC', 'DT', 'NN'),\n",
       " ('DT', 'JJ', 'JJ'),\n",
       " ('VB', 'TO', 'VB'),\n",
       " ('NN', 'WDT', 'VBZ'),\n",
       " ('VB', 'VBN', 'IN'),\n",
       " ('RB', 'JJ', 'IN'),\n",
       " ('VBZ', 'IN', 'DT'),\n",
       " ('PRP', 'VBP', 'RB'),\n",
       " ('NN', 'VBZ', 'IN'),\n",
       " ('VBZ', 'RB', 'JJ'),\n",
       " ('NNP', 'CC', 'NNP'),\n",
       " ('IN', 'PRP', 'VBD'),\n",
       " ('PRP', 'VBP', 'IN')]"
      ]
     },
     "execution_count": 51,
     "metadata": {},
     "output_type": "execute_result"
    }
   ],
   "source": [
    "trigrams"
   ]
  },
  {
   "cell_type": "code",
   "execution_count": null,
   "metadata": {
    "collapsed": true
   },
   "outputs": [],
   "source": []
  },
  {
   "cell_type": "code",
   "execution_count": 34,
   "metadata": {},
   "outputs": [],
   "source": [
    "number_of_trigrams = sum(data[0].all_trigrams.values())"
   ]
  },
  {
   "cell_type": "code",
   "execution_count": 37,
   "metadata": {},
   "outputs": [],
   "source": [
    "x = most_common_trigrams[0][0]"
   ]
  },
  {
   "cell_type": "code",
   "execution_count": 43,
   "metadata": {},
   "outputs": [
    {
     "data": {
      "text/plain": [
       "[('IN', 'DT', 'NN'),\n",
       " ('DT', 'NN', 'IN'),\n",
       " ('DT', 'JJ', 'NN'),\n",
       " ('NN', 'IN', 'DT'),\n",
       " ('IN', 'DT', 'JJ'),\n",
       " ('JJ', 'NN', 'IN'),\n",
       " ('NN', 'IN', 'NN'),\n",
       " ('DT', 'NN', 'NN'),\n",
       " ('VB', 'DT', 'NN'),\n",
       " ('PRP', 'MD', 'VB'),\n",
       " ('DT', 'NN', '__END__'),\n",
       " ('IN', 'DT', 'NNP'),\n",
       " ('NNP', 'NNP', 'NNP'),\n",
       " ('DT', 'NN', 'VBZ'),\n",
       " ('TO', 'VB', 'DT'),\n",
       " ('JJ', 'NN', '__END__'),\n",
       " ('NNS', 'IN', 'DT'),\n",
       " ('NN', 'TO', 'VB'),\n",
       " ('IN', 'PRP', 'VBP'),\n",
       " ('VBZ', 'DT', 'NN'),\n",
       " ('IN', 'DT', 'NNS'),\n",
       " ('NN', 'IN', 'NNP'),\n",
       " ('JJ', 'NNS', 'IN'),\n",
       " ('VBN', 'IN', 'DT'),\n",
       " ('JJ', 'NN', 'NN'),\n",
       " ('IN', 'JJ', 'NNS'),\n",
       " ('IN', 'NN', 'IN'),\n",
       " ('NN', 'IN', 'JJ'),\n",
       " ('DT', 'NN', 'CC'),\n",
       " ('__START__', 'DT', 'NN'),\n",
       " ('IN', 'PRP$', 'NN'),\n",
       " ('IN', 'JJ', 'NN'),\n",
       " ('NN', 'NN', '__END__'),\n",
       " ('DT', 'NNP', 'NNP'),\n",
       " ('TO', 'VB', 'IN'),\n",
       " ('NN', 'MD', 'VB'),\n",
       " ('NN', 'NN', 'IN'),\n",
       " ('IN', 'NNP', 'NNP'),\n",
       " ('NN', 'IN', 'PRP'),\n",
       " ('__START__', 'IN', 'DT'),\n",
       " ('NN', 'IN', 'NNS'),\n",
       " ('DT', 'NNS', 'IN'),\n",
       " ('MD', 'RB', 'VB'),\n",
       " ('NN', 'CC', 'NN'),\n",
       " ('RB', 'IN', 'DT'),\n",
       " ('DT', 'JJ', 'NNS'),\n",
       " ('VB', 'DT', 'JJ'),\n",
       " ('JJ', 'NN', 'CC'),\n",
       " ('VBZ', 'DT', 'JJ'),\n",
       " ('IN', 'NN', '__END__'),\n",
       " ('MD', 'VB', 'DT'),\n",
       " ('VBG', 'DT', 'NN'),\n",
       " ('__START__', 'PRP', 'VBP'),\n",
       " ('NN', 'NN', 'NN'),\n",
       " ('VB', 'IN', 'DT'),\n",
       " ('NN', 'VBZ', 'RB'),\n",
       " ('RB', 'DT', 'NN'),\n",
       " ('DT', 'NN', 'TO'),\n",
       " ('JJ', 'TO', 'VB'),\n",
       " ('PRP', 'VBP', 'DT'),\n",
       " ('TO', 'DT', 'NN'),\n",
       " ('NN', 'VBZ', 'DT'),\n",
       " ('JJ', 'JJ', 'NN'),\n",
       " ('JJ', 'NNS', '__END__'),\n",
       " ('NNS', 'IN', 'NN'),\n",
       " ('VBP', 'DT', 'NN'),\n",
       " ('JJ', 'IN', 'DT'),\n",
       " ('JJ', 'NN', 'VBZ'),\n",
       " ('MD', 'VB', 'VBN'),\n",
       " ('NN', 'IN', 'VBG'),\n",
       " ('NNP', 'IN', 'NNP'),\n",
       " ('DT', 'NN', 'RB'),\n",
       " ('VBD', 'DT', 'NN'),\n",
       " ('NNP', 'IN', 'DT'),\n",
       " ('DT', 'NNP', 'NN'),\n",
       " ('VBP', 'TO', 'VB'),\n",
       " ('IN', 'PRP', 'VBZ'),\n",
       " ('NN', 'IN', 'PRP$'),\n",
       " ('DT', 'NN', 'PRP'),\n",
       " ('NN', 'DT', 'NN'),\n",
       " ('NN', 'PRP', 'VBP'),\n",
       " ('IN', 'NN', 'CC'),\n",
       " ('MD', 'VB', 'IN'),\n",
       " ('NNP', 'NNP', 'IN'),\n",
       " ('IN', 'NN', 'NN'),\n",
       " ('__START__', 'DT', 'JJ'),\n",
       " ('NN', 'CC', 'DT'),\n",
       " ('CC', 'DT', 'NN'),\n",
       " ('DT', 'JJ', 'JJ'),\n",
       " ('VB', 'TO', 'VB'),\n",
       " ('NN', 'WDT', 'VBZ'),\n",
       " ('VB', 'VBN', 'IN'),\n",
       " ('RB', 'JJ', 'IN'),\n",
       " ('VBZ', 'IN', 'DT'),\n",
       " ('PRP', 'VBP', 'RB'),\n",
       " ('NN', 'VBZ', 'IN'),\n",
       " ('VBZ', 'RB', 'JJ'),\n",
       " ('NNP', 'CC', 'NNP'),\n",
       " ('IN', 'PRP', 'VBD'),\n",
       " ('PRP', 'VBP', 'IN')]"
      ]
     },
     "execution_count": 43,
     "metadata": {},
     "output_type": "execute_result"
    }
   ],
   "source": [
    "most_common_trigrams"
   ]
  },
  {
   "cell_type": "code",
   "execution_count": null,
   "metadata": {
    "collapsed": true
   },
   "outputs": [],
   "source": []
  },
  {
   "cell_type": "code",
   "execution_count": null,
   "metadata": {
    "collapsed": true
   },
   "outputs": [],
   "source": []
  }
 ],
 "metadata": {
  "kernelspec": {
   "display_name": "Python 3",
   "language": "python",
   "name": "python3"
  },
  "language_info": {
   "codemirror_mode": {
    "name": "ipython",
    "version": 3
   },
   "file_extension": ".py",
   "mimetype": "text/x-python",
   "name": "python",
   "nbconvert_exporter": "python",
   "pygments_lexer": "ipython3",
   "version": "3.6.1"
  }
 },
 "nbformat": 4,
 "nbformat_minor": 2
}
