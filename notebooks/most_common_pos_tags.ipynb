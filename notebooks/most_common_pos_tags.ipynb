{
 "cells": [
  {
   "cell_type": "markdown",
   "metadata": {},
   "source": [
    "Importing modules"
   ]
  },
  {
   "cell_type": "code",
   "execution_count": 5,
   "metadata": {},
   "outputs": [],
   "source": [
    "import sys\n",
    "import csv\n",
    "import json\n",
    "import os\n",
    "import itertools\n",
    "\n",
    "sys.path.append(\"..\")\n",
    "\n",
    "from functools import reduce\n",
    "from src.text_chunk import TextChunk"
   ]
  },
  {
   "cell_type": "markdown",
   "metadata": {},
   "source": [
    "Reading raw train texts"
   ]
  },
  {
   "cell_type": "code",
   "execution_count": 2,
   "metadata": {},
   "outputs": [],
   "source": [
    "def get_data(path):\n",
    "    data = []\n",
    "\n",
    "    for i in itertools.count(start=1):\n",
    "        try:\n",
    "            text = open(os.path.join(path, 'problem-' + str(i) + '.txt'), 'r').read()\n",
    "            data.append(TextChunk(text))\n",
    "        except FileNotFoundError:\n",
    "            break\n",
    "    \n",
    "    return data\n",
    "\n",
    "\n",
    "train = get_data('../data/train_raw')"
   ]
  },
  {
   "cell_type": "markdown",
   "metadata": {},
   "source": [
    "Get POSTAG trigram/fourgram counters for each text"
   ]
  },
  {
   "cell_type": "code",
   "execution_count": 3,
   "metadata": {
    "collapsed": true
   },
   "outputs": [],
   "source": [
    "trigram_counters = [text.all_trigrams for text in train]\n",
    "fourgram_counters = [text.all_fourgrams for text in train]"
   ]
  },
  {
   "cell_type": "markdown",
   "metadata": {},
   "source": [
    "Combine all counters to count total occurances of each trigram/fourgram"
   ]
  },
  {
   "cell_type": "code",
   "execution_count": 6,
   "metadata": {},
   "outputs": [],
   "source": [
    "trigram_counts = reduce(lambda c1, c2: c1 + c2, trigram_counters)\n",
    "fourgram_counts = reduce(lambda c1, c2: c1 + c2, fourgram_counters)"
   ]
  },
  {
   "cell_type": "markdown",
   "metadata": {},
   "source": [
    "Get 100 most common trigrams and 100 most common fourgrams"
   ]
  },
  {
   "cell_type": "code",
   "execution_count": 8,
   "metadata": {
    "collapsed": true
   },
   "outputs": [],
   "source": [
    "most_common_trigrams = trigram_counts.most_common(100)\n",
    "most_common_trigrams = list(map(lambda x: x[0], most_common_trigrams))\n",
    "\n",
    "most_common_fourgrams = fourgram_counts.most_common(100)\n",
    "most_common_fourgrams = list(map(lambda x: x[0], most_common_fourgrams))"
   ]
  },
  {
   "cell_type": "markdown",
   "metadata": {},
   "source": [
    "Write most common tri/four-grams POS-tags to files"
   ]
  },
  {
   "cell_type": "code",
   "execution_count": 20,
   "metadata": {
    "collapsed": true
   },
   "outputs": [],
   "source": [
    "with open('../data/pos_tag_ngrams/most_common_pos_tag_trigrams.csv', 'w') as myfile:\n",
    "    wr = csv.writer(myfile, quoting=csv.QUOTE_ALL)\n",
    "    \n",
    "    for trigrams in most_common_trigrams:\n",
    "        wr.writerow(trigrams)\n",
    "        \n",
    "with open('../data/pos_tag_ngrams/most_common_pos_tag_fourgrams.csv', 'w') as myfile:\n",
    "    wr = csv.writer(myfile, quoting=csv.QUOTE_ALL)\n",
    "    \n",
    "    for fourgrams in most_common_fourgrams:\n",
    "        wr.writerow(fourgrams)"
   ]
  },
  {
   "cell_type": "markdown",
   "metadata": {},
   "source": [
    "Check files:"
   ]
  },
  {
   "cell_type": "code",
   "execution_count": 21,
   "metadata": {},
   "outputs": [],
   "source": [
    "with open('../data/pos_tag_ngrams/most_common_pos_tag_trigrams.csv', 'r') as f:\n",
    "    POS_TAG_TRIGRAMS = []\n",
    "    reader = csv.reader(f)\n",
    "    for line in reader:\n",
    "        POS_TAG_TRIGRAMS.append(tuple(line))\n",
    "        \n",
    "with open('../data/pos_tag_ngrams/most_common_pos_tag_fourgrams.csv', 'r') as f:\n",
    "    POS_TAG_FOURGRAMS = []\n",
    "    reader = csv.reader(f)\n",
    "    for line in reader:\n",
    "        POS_TAG_FOURGRAMS.append(tuple(line))"
   ]
  },
  {
   "cell_type": "code",
   "execution_count": 22,
   "metadata": {
    "collapsed": true
   },
   "outputs": [
    {
     "data": {
      "text/plain": [
       "[('IN', 'DT', 'NN'),\n",
       " ('DT', 'NN', 'IN'),\n",
       " ('DT', 'JJ', 'NN'),\n",
       " ('NN', 'IN', 'DT'),\n",
       " ('IN', 'DT', 'JJ'),\n",
       " ('JJ', 'NN', 'IN'),\n",
       " ('NN', 'IN', 'NN'),\n",
       " ('DT', 'NN', 'NN'),\n",
       " ('VB', 'DT', 'NN'),\n",
       " ('PRP', 'MD', 'VB'),\n",
       " ('DT', 'NN', '__END__'),\n",
       " ('IN', 'DT', 'NNP'),\n",
       " ('NNP', 'NNP', 'NNP'),\n",
       " ('DT', 'NN', 'VBZ'),\n",
       " ('TO', 'VB', 'DT'),\n",
       " ('JJ', 'NN', '__END__'),\n",
       " ('NNS', 'IN', 'DT'),\n",
       " ('NN', 'TO', 'VB'),\n",
       " ('IN', 'PRP', 'VBP'),\n",
       " ('VBZ', 'DT', 'NN'),\n",
       " ('IN', 'DT', 'NNS'),\n",
       " ('NN', 'IN', 'NNP'),\n",
       " ('JJ', 'NNS', 'IN'),\n",
       " ('VBN', 'IN', 'DT'),\n",
       " ('JJ', 'NN', 'NN'),\n",
       " ('IN', 'JJ', 'NNS'),\n",
       " ('IN', 'NN', 'IN'),\n",
       " ('NN', 'IN', 'JJ'),\n",
       " ('DT', 'NN', 'CC'),\n",
       " ('__START__', 'DT', 'NN'),\n",
       " ('IN', 'PRP$', 'NN'),\n",
       " ('IN', 'JJ', 'NN'),\n",
       " ('NN', 'NN', '__END__'),\n",
       " ('DT', 'NNP', 'NNP'),\n",
       " ('TO', 'VB', 'IN'),\n",
       " ('NN', 'MD', 'VB'),\n",
       " ('NN', 'NN', 'IN'),\n",
       " ('IN', 'NNP', 'NNP'),\n",
       " ('NN', 'IN', 'PRP'),\n",
       " ('__START__', 'IN', 'DT'),\n",
       " ('NN', 'IN', 'NNS'),\n",
       " ('DT', 'NNS', 'IN'),\n",
       " ('MD', 'RB', 'VB'),\n",
       " ('NN', 'CC', 'NN'),\n",
       " ('RB', 'IN', 'DT'),\n",
       " ('DT', 'JJ', 'NNS'),\n",
       " ('VB', 'DT', 'JJ'),\n",
       " ('JJ', 'NN', 'CC'),\n",
       " ('VBZ', 'DT', 'JJ'),\n",
       " ('IN', 'NN', '__END__'),\n",
       " ('MD', 'VB', 'DT'),\n",
       " ('VBG', 'DT', 'NN'),\n",
       " ('__START__', 'PRP', 'VBP'),\n",
       " ('NN', 'NN', 'NN'),\n",
       " ('VB', 'IN', 'DT'),\n",
       " ('NN', 'VBZ', 'RB'),\n",
       " ('RB', 'DT', 'NN'),\n",
       " ('DT', 'NN', 'TO'),\n",
       " ('JJ', 'TO', 'VB'),\n",
       " ('PRP', 'VBP', 'DT'),\n",
       " ('TO', 'DT', 'NN'),\n",
       " ('NN', 'VBZ', 'DT'),\n",
       " ('JJ', 'JJ', 'NN'),\n",
       " ('JJ', 'NNS', '__END__'),\n",
       " ('NNS', 'IN', 'NN'),\n",
       " ('VBP', 'DT', 'NN'),\n",
       " ('JJ', 'IN', 'DT'),\n",
       " ('JJ', 'NN', 'VBZ'),\n",
       " ('MD', 'VB', 'VBN'),\n",
       " ('NN', 'IN', 'VBG'),\n",
       " ('NNP', 'IN', 'NNP'),\n",
       " ('DT', 'NN', 'RB'),\n",
       " ('VBD', 'DT', 'NN'),\n",
       " ('NNP', 'IN', 'DT'),\n",
       " ('DT', 'NNP', 'NN'),\n",
       " ('VBP', 'TO', 'VB'),\n",
       " ('IN', 'PRP', 'VBZ'),\n",
       " ('NN', 'IN', 'PRP$'),\n",
       " ('DT', 'NN', 'PRP'),\n",
       " ('NN', 'DT', 'NN'),\n",
       " ('NN', 'PRP', 'VBP'),\n",
       " ('IN', 'NN', 'CC'),\n",
       " ('MD', 'VB', 'IN'),\n",
       " ('NNP', 'NNP', 'IN'),\n",
       " ('IN', 'NN', 'NN'),\n",
       " ('__START__', 'DT', 'JJ'),\n",
       " ('NN', 'CC', 'DT'),\n",
       " ('CC', 'DT', 'NN'),\n",
       " ('DT', 'JJ', 'JJ'),\n",
       " ('VB', 'TO', 'VB'),\n",
       " ('NN', 'WDT', 'VBZ'),\n",
       " ('VB', 'VBN', 'IN'),\n",
       " ('RB', 'JJ', 'IN'),\n",
       " ('VBZ', 'IN', 'DT'),\n",
       " ('PRP', 'VBP', 'RB'),\n",
       " ('NN', 'VBZ', 'IN'),\n",
       " ('VBZ', 'RB', 'JJ'),\n",
       " ('NNP', 'CC', 'NNP'),\n",
       " ('IN', 'PRP', 'VBD'),\n",
       " ('PRP', 'VBP', 'IN')]"
      ]
     },
     "execution_count": 22,
     "metadata": {},
     "output_type": "execute_result"
    }
   ],
   "source": [
    "POS_TAG_TRIGRAMS"
   ]
  },
  {
   "cell_type": "code",
   "execution_count": 23,
   "metadata": {
    "collapsed": true
   },
   "outputs": [
    {
     "data": {
      "text/plain": [
       "[('NN', 'IN', 'DT', 'NN'),\n",
       " ('IN', 'DT', 'NN', 'IN'),\n",
       " ('IN', 'DT', 'JJ', 'NN'),\n",
       " ('DT', 'NN', 'IN', 'DT'),\n",
       " ('DT', 'JJ', 'NN', 'IN'),\n",
       " ('DT', 'NN', 'IN', 'NN'),\n",
       " ('JJ', 'NN', 'IN', 'DT'),\n",
       " ('NN', 'IN', 'DT', 'JJ'),\n",
       " ('IN', 'DT', 'NN', '__END__'),\n",
       " ('IN', 'DT', 'NN', 'NN'),\n",
       " ('TO', 'VB', 'DT', 'NN'),\n",
       " ('DT', 'JJ', 'NN', '__END__'),\n",
       " ('VB', 'DT', 'NN', 'IN'),\n",
       " ('NNS', 'IN', 'DT', 'NN'),\n",
       " ('NNP', 'NNP', 'NNP', 'NNP'),\n",
       " ('VBZ', 'DT', 'JJ', 'NN'),\n",
       " ('VBZ', 'DT', 'NN', 'IN'),\n",
       " ('VB', 'DT', 'JJ', 'NN'),\n",
       " ('VBN', 'IN', 'DT', 'NN'),\n",
       " ('IN', 'DT', 'NN', 'VBZ'),\n",
       " ('DT', 'JJ', 'NN', 'NN'),\n",
       " ('NN', 'IN', 'DT', 'NNP'),\n",
       " ('DT', 'NN', 'IN', 'NNP'),\n",
       " ('IN', 'DT', 'NNP', 'NNP'),\n",
       " ('IN', 'DT', 'NN', 'CC'),\n",
       " ('DT', 'NN', 'IN', 'JJ'),\n",
       " ('JJ', 'NN', 'IN', 'NN'),\n",
       " ('DT', 'NN', 'TO', 'VB'),\n",
       " ('DT', 'NN', 'IN', 'NNS'),\n",
       " ('__START__', 'IN', 'DT', 'NN'),\n",
       " ('NN', 'IN', 'JJ', 'NN'),\n",
       " ('NN', 'IN', 'NN', 'IN'),\n",
       " ('RB', 'IN', 'DT', 'NN'),\n",
       " ('IN', 'NN', 'IN', 'DT'),\n",
       " ('MD', 'VB', 'DT', 'NN'),\n",
       " ('DT', 'JJ', 'NN', 'VBZ'),\n",
       " ('DT', 'JJ', 'NN', 'CC'),\n",
       " ('VB', 'IN', 'DT', 'NN'),\n",
       " ('IN', 'PRP', 'MD', 'VB'),\n",
       " ('__START__', 'DT', 'JJ', 'NN'),\n",
       " ('JJ', 'NNS', 'IN', 'DT'),\n",
       " ('PRP', 'MD', 'RB', 'VB'),\n",
       " ('NN', 'IN', 'NN', '__END__'),\n",
       " ('PRP', 'VBP', 'TO', 'VB'),\n",
       " ('NN', 'IN', 'JJ', 'NNS'),\n",
       " ('DT', 'NN', 'MD', 'VB'),\n",
       " ('IN', 'DT', 'NNS', 'IN'),\n",
       " ('PRP', 'MD', 'VB', 'DT'),\n",
       " ('DT', 'JJ', 'JJ', 'NN'),\n",
       " ('DT', 'NN', 'NN', 'IN'),\n",
       " ('NN', 'NN', 'IN', 'DT'),\n",
       " ('NN', 'IN', 'PRP$', 'NN'),\n",
       " ('PRP', 'VBP', 'DT', 'NN'),\n",
       " ('TO', 'VB', 'DT', 'JJ'),\n",
       " ('TO', 'VB', 'IN', 'DT'),\n",
       " ('IN', 'DT', 'JJ', 'NNS'),\n",
       " ('NN', 'IN', 'DT', 'NNS'),\n",
       " ('DT', 'NN', 'NN', '__END__'),\n",
       " ('NN', 'VBZ', 'DT', 'NN'),\n",
       " ('DT', 'NN', 'IN', 'PRP'),\n",
       " ('NN', 'TO', 'VB', 'DT'),\n",
       " ('__START__', 'DT', 'NN', 'IN'),\n",
       " ('__START__', 'PRP', 'MD', 'VB'),\n",
       " ('JJ', 'IN', 'DT', 'NN'),\n",
       " ('DT', 'NNS', 'IN', 'DT'),\n",
       " ('NNS', 'IN', 'DT', 'JJ'),\n",
       " ('IN', 'DT', 'NNP', 'NN'),\n",
       " ('NN', 'PRP', 'MD', 'VB'),\n",
       " ('IN', 'DT', 'NN', 'PRP'),\n",
       " ('DT', 'NN', 'VBZ', 'RB'),\n",
       " ('RB', 'DT', 'JJ', 'NN'),\n",
       " ('DT', 'NN', 'IN', 'VBG'),\n",
       " ('__START__', 'IN', 'PRP', 'VBP'),\n",
       " ('JJ', 'NN', 'TO', 'VB'),\n",
       " ('__START__', 'DT', 'NN', 'VBZ'),\n",
       " ('PRP', 'MD', 'VB', 'IN'),\n",
       " ('VBG', 'DT', 'NN', 'IN'),\n",
       " ('MD', 'VB', 'VBN', 'IN'),\n",
       " ('DT', 'JJ', 'NNS', 'IN'),\n",
       " ('DT', 'NN', 'VBZ', 'DT'),\n",
       " ('VBZ', 'IN', 'DT', 'NN'),\n",
       " ('RB', 'DT', 'NN', 'IN'),\n",
       " ('VBD', 'DT', 'NN', 'IN'),\n",
       " ('VBP', 'DT', 'NN', 'IN'),\n",
       " ('VBN', 'IN', 'DT', 'JJ'),\n",
       " ('NN', 'IN', 'PRP', 'VBP'),\n",
       " ('NN', 'IN', 'NNP', 'NNP'),\n",
       " ('IN', 'VBG', 'DT', 'NN'),\n",
       " ('JJ', 'NN', 'IN', 'NNP'),\n",
       " ('IN', 'JJ', 'NNS', 'IN'),\n",
       " ('NN', 'IN', 'NN', 'CC'),\n",
       " ('NN', 'CC', 'DT', 'NN'),\n",
       " ('RB', 'VB', 'DT', 'NN'),\n",
       " ('DT', 'NN', 'IN', 'PRP$'),\n",
       " ('TO', 'DT', 'NN', 'IN'),\n",
       " ('DT', 'JJ', 'NN', 'TO'),\n",
       " ('IN', 'NNP', 'NNP', 'NNP'),\n",
       " ('VBD', 'DT', 'JJ', 'NN'),\n",
       " ('NN', 'IN', 'NN', 'NN'),\n",
       " ('IN', 'DT', 'NN', 'RB')]"
      ]
     },
     "execution_count": 23,
     "metadata": {},
     "output_type": "execute_result"
    }
   ],
   "source": [
    "POS_TAG_FOURGRAMS"
   ]
  }
 ],
 "metadata": {
  "kernelspec": {
   "display_name": "Python 3",
   "language": "python",
   "name": "python3"
  },
  "language_info": {
   "codemirror_mode": {
    "name": "ipython",
    "version": 3
   },
   "file_extension": ".py",
   "mimetype": "text/x-python",
   "name": "python",
   "nbconvert_exporter": "python",
   "pygments_lexer": "ipython3",
   "version": "3.6.1"
  }
 },
 "nbformat": 4,
 "nbformat_minor": 2
}
