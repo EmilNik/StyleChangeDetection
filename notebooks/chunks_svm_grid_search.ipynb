{
 "cells": [
  {
   "cell_type": "code",
   "execution_count": 1,
   "metadata": {},
   "outputs": [],
   "source": [
    "import numpy as np\n",
    "import pandas as pd\n",
    "from sklearn.pipeline import Pipeline\n",
    "from sklearn.preprocessing import StandardScaler\n",
    "from sklearn.feature_selection import VarianceThreshold\n",
    "from sklearn.feature_selection import SelectKBest\n",
    "from sklearn.svm import SVC\n",
    "from sklearn.model_selection import GridSearchCV"
   ]
  },
  {
   "cell_type": "code",
   "execution_count": 2,
   "metadata": {},
   "outputs": [],
   "source": [
    "df_train = pd.read_csv('../data/500_ngrams/train_features_scaled_standard.csv', index_col=0)\n",
    "df_val = pd.read_csv('../data/500_ngrams/validation_features_scaled_standard.csv', index_col=0)"
   ]
  },
  {
   "cell_type": "code",
   "execution_count": 3,
   "metadata": {},
   "outputs": [],
   "source": [
    "df_feature_names = pd.read_csv('../data/500_ngrams/feature_names.csv', index_col=0)"
   ]
  },
  {
   "cell_type": "code",
   "execution_count": 4,
   "metadata": {},
   "outputs": [],
   "source": [
    "y_train = list(map(lambda y: int(y), df_train['different_author']))\n",
    "y_val = list(map(lambda y: int(y), df_val['different_author']))"
   ]
  },
  {
   "cell_type": "code",
   "execution_count": 5,
   "metadata": {},
   "outputs": [],
   "source": [
    "N = int((len(df_train.columns) - 1) / 2)\n",
    "\n",
    "df_train_a = df_train.iloc[:, :N]\n",
    "df_train_b = df_train.iloc[:, N:-1]\n",
    "\n",
    "df_train_a = df_train_a.rename(columns={x:y for x,y in zip(df_train_a.columns,range(0,len(df_train_a.columns)))})\n",
    "df_train_b = df_train_b.rename(columns={x:y for x,y in zip(df_train_b.columns,range(0,len(df_train_b.columns)))})\n",
    "\n",
    "\n",
    "df_val_a = df_val.iloc[:, :N]\n",
    "df_val_b = df_val.iloc[:, N:-1]\n",
    "\n",
    "df_val_a = df_val_a.rename(columns={x:y for x,y in zip(df_val_a.columns,range(0,len(df_val_a.columns)))})\n",
    "df_val_b = df_val_b.rename(columns={x:y for x,y in zip(df_val_b.columns,range(0,len(df_val_b.columns)))})"
   ]
  },
  {
   "cell_type": "code",
   "execution_count": 6,
   "metadata": {},
   "outputs": [],
   "source": [
    "df_train_sqdiff = df_train_a.subtract(df_train_b) ** 2\n",
    "df_train_absdiff = df_train_a.subtract(df_train_b).abs()\n",
    "\n",
    "df_val_sqdiff = df_val_a.subtract(df_val_b) ** 2\n",
    "df_val_absdiff = df_val_a.subtract(df_val_b).abs()"
   ]
  },
  {
   "cell_type": "code",
   "execution_count": 7,
   "metadata": {},
   "outputs": [],
   "source": [
    "del df_train\n",
    "del df_val\n",
    "del df_train_a\n",
    "del df_train_b\n",
    "del df_val_a\n",
    "del df_val_b"
   ]
  },
  {
   "cell_type": "code",
   "execution_count": 8,
   "metadata": {},
   "outputs": [],
   "source": [
    "pipeline = Pipeline([\n",
    "#     ('scaler', StandardScaler()),\n",
    "    ('var_filter', VarianceThreshold()),\n",
    "    ('selector', SelectKBest()),\n",
    "    ('clf', SVC()),\n",
    "])"
   ]
  },
  {
   "cell_type": "code",
   "execution_count": 9,
   "metadata": {},
   "outputs": [],
   "source": [
    "parameters = {\n",
    "    'selector__k': list(range(11, 20)),\n",
    "#     'clf__gamma': np.logspace(-4, -2, 15),\n",
    "}"
   ]
  },
  {
   "cell_type": "code",
   "execution_count": 10,
   "metadata": {},
   "outputs": [
    {
     "data": {
      "text/plain": [
       "GridSearchCV(cv=5, error_score='raise',\n",
       "       estimator=Pipeline(memory=None,\n",
       "     steps=[('var_filter', VarianceThreshold(threshold=0.0)), ('selector', SelectKBest(k=10, score_func=<function f_classif at 0x109648e18>)), ('clf', SVC(C=1.0, cache_size=200, class_weight=None, coef0=0.0,\n",
       "  decision_function_shape='ovr', degree=3, gamma='auto', kernel='rbf',\n",
       "  max_iter=-1, probability=False, random_state=None, shrinking=True,\n",
       "  tol=0.001, verbose=False))]),\n",
       "       fit_params=None, iid=True, n_jobs=-1,\n",
       "       param_grid={'selector__k': [11, 12, 13, 14, 15, 16, 17, 18, 19]},\n",
       "       pre_dispatch='2*n_jobs', refit=True, return_train_score='warn',\n",
       "       scoring=None, verbose=10)"
      ]
     },
     "execution_count": 10,
     "metadata": {},
     "output_type": "execute_result"
    }
   ],
   "source": [
    "grid_search_sqdiff = GridSearchCV(pipeline, parameters, cv=5, n_jobs=-1, verbose=10)\n",
    "grid_search_sqdiff"
   ]
  },
  {
   "cell_type": "code",
   "execution_count": 11,
   "metadata": {},
   "outputs": [
    {
     "name": "stdout",
     "output_type": "stream",
     "text": [
      "Fitting 5 folds for each of 9 candidates, totalling 45 fits\n",
      "[CV] selector__k=11 ..................................................\n",
      "[CV] selector__k=11 ..................................................\n",
      "[CV] selector__k=11 ..................................................\n",
      "[CV] selector__k=11 ..................................................\n",
      "[CV] ......... selector__k=11, score=0.6926333615580017, total=   2.4s\n",
      "[CV] selector__k=11 ..................................................\n",
      "[CV] ......... selector__k=11, score=0.7021996615905245, total=   2.6s\n",
      "[CV] ......... selector__k=11, score=0.6740050804403048, total=   2.4s\n",
      "[CV] ......... selector__k=11, score=0.6731583403895004, total=   2.5s\n",
      "[CV] selector__k=12 ..................................................\n",
      "[CV] selector__k=12 ..................................................\n",
      "[CV] selector__k=12 ..................................................\n",
      "[CV] ......... selector__k=11, score=0.6900931414055885, total=   2.2s\n",
      "[CV] selector__k=12 ..................................................\n",
      "[CV] ......... selector__k=12, score=0.7089678510998308, total=   2.2s\n"
     ]
    },
    {
     "name": "stderr",
     "output_type": "stream",
     "text": [
      "[Parallel(n_jobs=-1)]: Done   5 tasks      | elapsed:    6.6s\n"
     ]
    },
    {
     "name": "stdout",
     "output_type": "stream",
     "text": [
      "[CV] selector__k=12 ..................................................\n",
      "[CV] ......... selector__k=12, score=0.6968670618120237, total=   2.2s\n",
      "[CV] selector__k=13 ..................................................\n",
      "[CV] ......... selector__k=12, score=0.6824724809483489, total=   2.2s\n",
      "[CV] selector__k=13 ..................................................\n",
      "[CV] ......... selector__k=12, score=0.6867061812023709, total=   2.1s\n",
      "[CV] ......... selector__k=12, score=0.6900931414055885, total=   2.3s\n",
      "[CV] selector__k=13 ..................................................\n",
      "[CV] selector__k=13 ..................................................\n",
      "[CV] ......... selector__k=13, score=0.7064297800338409, total=   2.0s\n",
      "[CV] ......... selector__k=13, score=0.7087214225232854, total=   1.9s\n",
      "[CV] selector__k=13 ..................................................\n"
     ]
    },
    {
     "name": "stderr",
     "output_type": "stream",
     "text": [
      "[Parallel(n_jobs=-1)]: Done  10 tasks      | elapsed:    9.7s\n"
     ]
    },
    {
     "name": "stdout",
     "output_type": "stream",
     "text": [
      "[CV] selector__k=14 ..................................................\n",
      "[CV] ......... selector__k=13, score=0.6850127011007621, total=   2.0s\n",
      "[CV] selector__k=14 ..................................................\n",
      "[CV] ......... selector__k=13, score=0.6994072819644369, total=   1.9s\n",
      "[CV] selector__k=14 ..................................................\n",
      "[CV] ......... selector__k=13, score=0.6968670618120237, total=   2.2s\n",
      "[CV] selector__k=14 ..................................................\n",
      "[CV] ......... selector__k=14, score=0.7021996615905245, total=   2.0s\n",
      "[CV] selector__k=14 ..................................................\n",
      "[CV] ......... selector__k=14, score=0.6985605419136325, total=   1.9s\n",
      "[CV] selector__k=15 ..................................................\n"
     ]
    },
    {
     "name": "stderr",
     "output_type": "stream",
     "text": [
      "[Parallel(n_jobs=-1)]: Done  17 tasks      | elapsed:   15.1s\n"
     ]
    },
    {
     "name": "stdout",
     "output_type": "stream",
     "text": [
      "[CV] ......... selector__k=14, score=0.6816257408975445, total=   2.0s\n",
      "[CV] selector__k=15 ..................................................\n",
      "[CV] ......... selector__k=14, score=0.7044877222692634, total=   1.9s\n",
      "[CV] selector__k=15 ..................................................\n",
      "[CV] ......... selector__k=14, score=0.6926333615580017, total=   2.2s\n",
      "[CV] selector__k=15 ..................................................\n",
      "[CV] ......... selector__k=15, score=0.7106598984771574, total=   2.0s\n",
      "[CV] selector__k=15 ..................................................\n",
      "[CV] ......... selector__k=15, score=0.7002540220152413, total=   2.0s\n",
      "[CV] selector__k=16 ..................................................\n",
      "[CV] .......... selector__k=15, score=0.676545300592718, total=   2.2s\n",
      "[CV] selector__k=16 ..................................................\n",
      "[CV] ......... selector__k=15, score=0.6740050804403048, total=   2.4s\n",
      "[CV] selector__k=16 ..................................................\n"
     ]
    },
    {
     "name": "stderr",
     "output_type": "stream",
     "text": [
      "[Parallel(n_jobs=-1)]: Done  24 tasks      | elapsed:   19.3s\n"
     ]
    },
    {
     "name": "stdout",
     "output_type": "stream",
     "text": [
      "[CV] ......... selector__k=15, score=0.7027942421676545, total=   2.0s\n",
      "[CV] selector__k=16 ..................................................\n",
      "[CV] ......... selector__k=16, score=0.7055837563451777, total=   2.1s\n",
      "[CV] selector__k=16 ..................................................\n",
      "[CV] ......... selector__k=16, score=0.6977138018628282, total=   2.1s\n",
      "[CV] selector__k=17 ..................................................\n",
      "[CV] .......... selector__k=16, score=0.676545300592718, total=   2.1s\n",
      "[CV] selector__k=17 ..................................................\n",
      "[CV] ......... selector__k=16, score=0.6875529212531752, total=   2.4s\n",
      "[CV] selector__k=17 ..................................................\n",
      "[CV] ......... selector__k=16, score=0.6960203217612193, total=   2.1s\n",
      "[CV] selector__k=17 ..................................................\n",
      "[CV] ......... selector__k=17, score=0.7038917089678511, total=   2.2s\n",
      "[CV] selector__k=17 ..................................................\n",
      "[CV] ......... selector__k=17, score=0.6926333615580017, total=   2.2s\n",
      "[CV] selector__k=18 ..................................................\n",
      "[CV] .......... selector__k=17, score=0.676545300592718, total=   2.7s\n",
      "[CV] selector__k=18 ..................................................\n"
     ]
    },
    {
     "name": "stderr",
     "output_type": "stream",
     "text": [
      "[Parallel(n_jobs=-1)]: Done  33 tasks      | elapsed:   28.0s\n"
     ]
    },
    {
     "name": "stdout",
     "output_type": "stream",
     "text": [
      "[CV] ......... selector__k=17, score=0.6646909398814564, total=   3.0s\n",
      "[CV] ......... selector__k=17, score=0.6926333615580017, total=   2.5s\n",
      "[CV] selector__k=18 ..................................................\n",
      "[CV] selector__k=18 ..................................................\n",
      "[CV] ......... selector__k=18, score=0.6895093062605753, total=   2.4s\n",
      "[CV] selector__k=18 ..................................................\n",
      "[CV] ......... selector__k=18, score=0.6867061812023709, total=   2.8s\n",
      "[CV] selector__k=19 ..................................................\n",
      "[CV] ......... selector__k=18, score=0.6629974597798476, total=   3.0s\n",
      "[CV] selector__k=19 ..................................................\n",
      "[CV] ......... selector__k=18, score=0.6621507197290432, total=   3.0s\n",
      "[CV] selector__k=19 ..................................................\n",
      "[CV] ......... selector__k=18, score=0.6892464013547841, total=   2.5s\n",
      "[CV] selector__k=19 ..................................................\n",
      "[CV] ......... selector__k=19, score=0.6802030456852792, total=   2.5s\n",
      "[CV] selector__k=19 ..................................................\n",
      "[CV] ......... selector__k=19, score=0.6816257408975445, total=   2.5s\n",
      "[CV] ......... selector__k=19, score=0.6519898391193903, total=   2.5s\n"
     ]
    },
    {
     "name": "stderr",
     "output_type": "stream",
     "text": [
      "[Parallel(n_jobs=-1)]: Done  43 out of  45 | elapsed:   36.4s remaining:    1.7s\n"
     ]
    },
    {
     "name": "stdout",
     "output_type": "stream",
     "text": [
      "[CV] ......... selector__k=19, score=0.6672311600338696, total=   2.6s\n",
      "[CV] ......... selector__k=19, score=0.6900931414055885, total=   1.8s\n"
     ]
    },
    {
     "name": "stderr",
     "output_type": "stream",
     "text": [
      "[Parallel(n_jobs=-1)]: Done  45 out of  45 | elapsed:   37.8s finished\n"
     ]
    },
    {
     "data": {
      "text/plain": [
       "GridSearchCV(cv=5, error_score='raise',\n",
       "       estimator=Pipeline(memory=None,\n",
       "     steps=[('var_filter', VarianceThreshold(threshold=0.0)), ('selector', SelectKBest(k=10, score_func=<function f_classif at 0x109648e18>)), ('clf', SVC(C=1.0, cache_size=200, class_weight=None, coef0=0.0,\n",
       "  decision_function_shape='ovr', degree=3, gamma='auto', kernel='rbf',\n",
       "  max_iter=-1, probability=False, random_state=None, shrinking=True,\n",
       "  tol=0.001, verbose=False))]),\n",
       "       fit_params=None, iid=True, n_jobs=-1,\n",
       "       param_grid={'selector__k': [11, 12, 13, 14, 15, 16, 17, 18, 19]},\n",
       "       pre_dispatch='2*n_jobs', refit=True, return_train_score='warn',\n",
       "       scoring=None, verbose=10)"
      ]
     },
     "execution_count": 11,
     "metadata": {},
     "output_type": "execute_result"
    }
   ],
   "source": [
    "grid_search_sqdiff.fit(df_train_sqdiff, y_train)"
   ]
  },
  {
   "cell_type": "code",
   "execution_count": 12,
   "metadata": {},
   "outputs": [
    {
     "data": {
      "text/plain": [
       "0.6992888587876736"
      ]
     },
     "execution_count": 12,
     "metadata": {},
     "output_type": "execute_result"
    }
   ],
   "source": [
    "grid_search_sqdiff.best_score_"
   ]
  },
  {
   "cell_type": "code",
   "execution_count": 13,
   "metadata": {},
   "outputs": [
    {
     "data": {
      "text/plain": [
       "{'selector__k': 13}"
      ]
     },
     "execution_count": 13,
     "metadata": {},
     "output_type": "execute_result"
    }
   ],
   "source": [
    "grid_search_sqdiff.best_params_"
   ]
  },
  {
   "cell_type": "code",
   "execution_count": 14,
   "metadata": {},
   "outputs": [
    {
     "data": {
      "text/plain": [
       "0.7015437392795884"
      ]
     },
     "execution_count": 14,
     "metadata": {},
     "output_type": "execute_result"
    }
   ],
   "source": [
    "grid_search_sqdiff.score(df_val_sqdiff, y_val)"
   ]
  },
  {
   "cell_type": "code",
   "execution_count": 15,
   "metadata": {},
   "outputs": [],
   "source": [
    "selector = grid_search_sqdiff.best_estimator_.named_steps.selector"
   ]
  },
  {
   "cell_type": "code",
   "execution_count": 16,
   "metadata": {},
   "outputs": [
    {
     "data": {
      "text/plain": [
       "array([  1,   5,  21,  25,  26,  28,  59,  60,  67,  68,  69,  99, 115])"
      ]
     },
     "execution_count": 16,
     "metadata": {},
     "output_type": "execute_result"
    }
   ],
   "source": [
    "idxs_selected = selector.get_support(indices=True)\n",
    "idxs_selected"
   ]
  },
  {
   "cell_type": "code",
   "execution_count": 17,
   "metadata": {},
   "outputs": [
    {
     "data": {
      "text/html": [
       "<div>\n",
       "<style scoped>\n",
       "    .dataframe tbody tr th:only-of-type {\n",
       "        vertical-align: middle;\n",
       "    }\n",
       "\n",
       "    .dataframe tbody tr th {\n",
       "        vertical-align: top;\n",
       "    }\n",
       "\n",
       "    .dataframe thead th {\n",
       "        text-align: right;\n",
       "    }\n",
       "</style>\n",
       "<table border=\"1\" class=\"dataframe\">\n",
       "  <thead>\n",
       "    <tr style=\"text-align: right;\">\n",
       "      <th></th>\n",
       "      <th>0</th>\n",
       "    </tr>\n",
       "  </thead>\n",
       "  <tbody>\n",
       "    <tr>\n",
       "      <th>1</th>\n",
       "      <td>Ari Index</td>\n",
       "    </tr>\n",
       "    <tr>\n",
       "      <th>5</th>\n",
       "      <td>Coleman Liau Index</td>\n",
       "    </tr>\n",
       "    <tr>\n",
       "      <th>21</th>\n",
       "      <td>DT_NN_VBZ</td>\n",
       "    </tr>\n",
       "    <tr>\n",
       "      <th>25</th>\n",
       "      <td>Double Hyphens</td>\n",
       "    </tr>\n",
       "    <tr>\n",
       "      <th>26</th>\n",
       "      <td>E</td>\n",
       "    </tr>\n",
       "    <tr>\n",
       "      <th>28</th>\n",
       "      <td>F</td>\n",
       "    </tr>\n",
       "    <tr>\n",
       "      <th>59</th>\n",
       "      <td>JJ_NN_VBZ</td>\n",
       "    </tr>\n",
       "    <tr>\n",
       "      <th>60</th>\n",
       "      <td>JJ_NN___END__</td>\n",
       "    </tr>\n",
       "    <tr>\n",
       "      <th>67</th>\n",
       "      <td>MD_RB_VB</td>\n",
       "    </tr>\n",
       "    <tr>\n",
       "      <th>68</th>\n",
       "      <td>MD_VB_DT</td>\n",
       "    </tr>\n",
       "    <tr>\n",
       "      <th>69</th>\n",
       "      <td>MD_VB_IN</td>\n",
       "    </tr>\n",
       "    <tr>\n",
       "      <th>99</th>\n",
       "      <td>NN_TO_VB</td>\n",
       "    </tr>\n",
       "    <tr>\n",
       "      <th>115</th>\n",
       "      <td>R</td>\n",
       "    </tr>\n",
       "  </tbody>\n",
       "</table>\n",
       "</div>"
      ],
      "text/plain": [
       "                      0\n",
       "1             Ari Index\n",
       "5    Coleman Liau Index\n",
       "21            DT_NN_VBZ\n",
       "25       Double Hyphens\n",
       "26                    E\n",
       "28                    F\n",
       "59            JJ_NN_VBZ\n",
       "60        JJ_NN___END__\n",
       "67             MD_RB_VB\n",
       "68             MD_VB_DT\n",
       "69             MD_VB_IN\n",
       "99             NN_TO_VB\n",
       "115                   R"
      ]
     },
     "execution_count": 17,
     "metadata": {},
     "output_type": "execute_result"
    }
   ],
   "source": [
    "df_feature_names.iloc[idxs_selected]"
   ]
  },
  {
   "cell_type": "markdown",
   "metadata": {},
   "source": [
    "---"
   ]
  },
  {
   "cell_type": "code",
   "execution_count": 18,
   "metadata": {},
   "outputs": [],
   "source": [
    "pipeline = Pipeline([\n",
    "#     ('scaler', StandardScaler()),\n",
    "    ('var_filter', VarianceThreshold()),\n",
    "    ('selector', SelectKBest()),\n",
    "    ('clf', SVC()),\n",
    "])"
   ]
  },
  {
   "cell_type": "code",
   "execution_count": 19,
   "metadata": {},
   "outputs": [],
   "source": [
    "parameters = {\n",
    "    'selector__k': list(range(11, 20)),\n",
    "#     'clf__gamma': np.logspace(-4, -2, 15),\n",
    "}"
   ]
  },
  {
   "cell_type": "code",
   "execution_count": 20,
   "metadata": {},
   "outputs": [
    {
     "data": {
      "text/plain": [
       "GridSearchCV(cv=5, error_score='raise',\n",
       "       estimator=Pipeline(memory=None,\n",
       "     steps=[('var_filter', VarianceThreshold(threshold=0.0)), ('selector', SelectKBest(k=10, score_func=<function f_classif at 0x109648e18>)), ('clf', SVC(C=1.0, cache_size=200, class_weight=None, coef0=0.0,\n",
       "  decision_function_shape='ovr', degree=3, gamma='auto', kernel='rbf',\n",
       "  max_iter=-1, probability=False, random_state=None, shrinking=True,\n",
       "  tol=0.001, verbose=False))]),\n",
       "       fit_params=None, iid=True, n_jobs=-1,\n",
       "       param_grid={'selector__k': [11, 12, 13, 14, 15, 16, 17, 18, 19]},\n",
       "       pre_dispatch='2*n_jobs', refit=True, return_train_score='warn',\n",
       "       scoring=None, verbose=10)"
      ]
     },
     "execution_count": 20,
     "metadata": {},
     "output_type": "execute_result"
    }
   ],
   "source": [
    "grid_search_absdiff = GridSearchCV(pipeline, parameters, cv=5, n_jobs=-1, verbose=10)\n",
    "grid_search_absdiff"
   ]
  },
  {
   "cell_type": "code",
   "execution_count": 21,
   "metadata": {},
   "outputs": [
    {
     "name": "stdout",
     "output_type": "stream",
     "text": [
      "Fitting 5 folds for each of 9 candidates, totalling 45 fits\n",
      "[CV] selector__k=11 ..................................................\n",
      "[CV] selector__k=11 ..................................................\n",
      "[CV] selector__k=11 ..................................................\n",
      "[CV] selector__k=11 ..................................................\n",
      "[CV] ......... selector__k=11, score=0.7256562235393734, total=   1.7s\n",
      "[CV] ......... selector__k=11, score=0.7174280879864636, total=   1.7s\n",
      "[CV] selector__k=11 ..................................................\n",
      "[CV] selector__k=12 ..................................................\n",
      "[CV] ......... selector__k=11, score=0.6824724809483489, total=   1.7s\n",
      "[CV] selector__k=12 ..................................................\n",
      "[CV] .......... selector__k=11, score=0.720575783234547, total=   1.6s\n",
      "[CV] selector__k=12 ..................................................\n",
      "[CV] ......... selector__k=11, score=0.7146486028789162, total=   1.7s\n",
      "[CV] selector__k=12 ..................................................\n",
      "[CV] ......... selector__k=12, score=0.7258883248730964, total=   1.8s\n"
     ]
    },
    {
     "name": "stderr",
     "output_type": "stream",
     "text": [
      "[Parallel(n_jobs=-1)]: Done   5 tasks      | elapsed:    5.1s\n"
     ]
    },
    {
     "name": "stdout",
     "output_type": "stream",
     "text": [
      "[CV] selector__k=12 ..................................................\n",
      "[CV] ......... selector__k=12, score=0.7231160033869602, total=   1.7s\n",
      "[CV] selector__k=13 ..................................................\n",
      "[CV] ......... selector__k=12, score=0.6790855207451313, total=   1.6s\n",
      "[CV] selector__k=13 ..................................................\n",
      "[CV] .......... selector__k=12, score=0.720575783234547, total=   1.5s\n",
      "[CV] selector__k=13 ..................................................\n",
      "[CV] ......... selector__k=12, score=0.7138018628281118, total=   1.6s\n",
      "[CV] selector__k=13 ..................................................\n",
      "[CV] ......... selector__k=13, score=0.7250423011844331, total=   1.6s\n"
     ]
    },
    {
     "name": "stderr",
     "output_type": "stream",
     "text": [
      "[Parallel(n_jobs=-1)]: Done  10 tasks      | elapsed:    7.7s\n"
     ]
    },
    {
     "name": "stdout",
     "output_type": "stream",
     "text": [
      "[CV] selector__k=13 ..................................................\n",
      "[CV] ......... selector__k=13, score=0.7265029635901779, total=   1.5s\n",
      "[CV] selector__k=14 ..................................................\n",
      "[CV] ......... selector__k=13, score=0.6816257408975445, total=   2.0s\n",
      "[CV] selector__k=14 ..................................................\n",
      "[CV] ......... selector__k=13, score=0.7188823031329382, total=   1.8s\n",
      "[CV] selector__k=14 ..................................................\n",
      "[CV] ......... selector__k=13, score=0.7061812023708721, total=   1.7s\n",
      "[CV] selector__k=14 ..................................................\n",
      "[CV] ......... selector__k=14, score=0.7267343485617598, total=   1.7s\n",
      "[CV] selector__k=14 ..................................................\n",
      "[CV] ......... selector__k=14, score=0.7281964436917866, total=   2.1s\n",
      "[CV] selector__k=15 ..................................................\n",
      "[CV] ......... selector__k=14, score=0.6773920406435224, total=   2.0s\n",
      "[CV] selector__k=15 ..................................................\n"
     ]
    },
    {
     "name": "stderr",
     "output_type": "stream",
     "text": [
      "[Parallel(n_jobs=-1)]: Done  17 tasks      | elapsed:   12.9s\n"
     ]
    },
    {
     "name": "stdout",
     "output_type": "stream",
     "text": [
      "[CV] ......... selector__k=14, score=0.7129551227773073, total=   2.0s\n",
      "[CV] selector__k=15 ..................................................\n",
      "[CV] ......... selector__k=14, score=0.7019475021168501, total=   1.8s\n",
      "[CV] selector__k=15 ..................................................\n",
      "[CV] ......... selector__k=15, score=0.7233502538071066, total=   1.9s\n",
      "[CV] selector__k=15 ..................................................\n",
      "[CV] .......... selector__k=15, score=0.720575783234547, total=   2.0s\n",
      "[CV] selector__k=16 ..................................................\n",
      "[CV] ......... selector__k=15, score=0.6748518204911093, total=   2.0s\n",
      "[CV] selector__k=16 ..................................................\n",
      "[CV] ......... selector__k=15, score=0.7171888230313294, total=   2.0s\n",
      "[CV] selector__k=16 ..................................................\n"
     ]
    },
    {
     "name": "stderr",
     "output_type": "stream",
     "text": [
      "[Parallel(n_jobs=-1)]: Done  24 tasks      | elapsed:   16.6s\n"
     ]
    },
    {
     "name": "stdout",
     "output_type": "stream",
     "text": [
      "[CV] ......... selector__k=15, score=0.7011007620660458, total=   1.7s\n",
      "[CV] selector__k=16 ..................................................\n",
      "[CV] ......... selector__k=16, score=0.7258883248730964, total=   1.7s\n",
      "[CV] selector__k=16 ..................................................\n",
      "[CV] ......... selector__k=16, score=0.7222692633361558, total=   1.6s\n",
      "[CV] selector__k=17 ..................................................\n",
      "[CV] ......... selector__k=16, score=0.6748518204911093, total=   1.6s\n",
      "[CV] selector__k=17 ..................................................\n",
      "[CV] ......... selector__k=16, score=0.7112616426756986, total=   2.0s\n",
      "[CV] selector__k=17 ..................................................\n",
      "[CV] ......... selector__k=16, score=0.7036409822184589, total=   2.3s\n",
      "[CV] selector__k=17 ..................................................\n",
      "[CV] ......... selector__k=17, score=0.7267343485617598, total=   2.2s\n",
      "[CV] selector__k=17 ..................................................\n",
      "[CV] ......... selector__k=17, score=0.7138018628281118, total=   2.0s\n",
      "[CV] selector__k=18 ..................................................\n",
      "[CV] .......... selector__k=17, score=0.672311600338696, total=   1.8s\n",
      "[CV] selector__k=18 ..................................................\n"
     ]
    },
    {
     "name": "stderr",
     "output_type": "stream",
     "text": [
      "[Parallel(n_jobs=-1)]: Done  33 tasks      | elapsed:   24.0s\n"
     ]
    },
    {
     "name": "stdout",
     "output_type": "stream",
     "text": [
      "[CV] ......... selector__k=17, score=0.7154953429297206, total=   1.7s\n",
      "[CV] selector__k=18 ..................................................\n",
      "[CV] ......... selector__k=17, score=0.7104149026248942, total=   1.7s\n",
      "[CV] selector__k=18 ..................................................\n",
      "[CV] ......... selector__k=18, score=0.7131979695431472, total=   1.7s\n",
      "[CV] selector__k=18 ..................................................\n",
      "[CV] ......... selector__k=18, score=0.7129551227773073, total=   1.7s\n",
      "[CV] selector__k=19 ..................................................\n",
      "[CV] ......... selector__k=18, score=0.6621507197290432, total=   1.7s\n",
      "[CV] selector__k=19 ..................................................\n",
      "[CV] ......... selector__k=18, score=0.7070279424216765, total=   1.7s\n",
      "[CV] selector__k=19 ..................................................\n",
      "[CV] ......... selector__k=18, score=0.7112616426756986, total=   1.7s\n",
      "[CV] selector__k=19 ..................................................\n",
      "[CV] ......... selector__k=19, score=0.7089678510998308, total=   1.9s\n",
      "[CV] selector__k=19 ..................................................\n",
      "[CV] ......... selector__k=19, score=0.7061812023708721, total=   1.8s\n",
      "[CV] ......... selector__k=19, score=0.6672311600338696, total=   1.9s\n",
      "[CV] ......... selector__k=19, score=0.7044877222692634, total=   1.9s\n"
     ]
    },
    {
     "name": "stderr",
     "output_type": "stream",
     "text": [
      "[Parallel(n_jobs=-1)]: Done  43 out of  45 | elapsed:   30.1s remaining:    1.4s\n"
     ]
    },
    {
     "name": "stdout",
     "output_type": "stream",
     "text": [
      "[CV] ......... selector__k=19, score=0.7070279424216765, total=   1.3s\n"
     ]
    },
    {
     "name": "stderr",
     "output_type": "stream",
     "text": [
      "[Parallel(n_jobs=-1)]: Done  45 out of  45 | elapsed:   31.4s finished\n"
     ]
    },
    {
     "data": {
      "text/plain": [
       "GridSearchCV(cv=5, error_score='raise',\n",
       "       estimator=Pipeline(memory=None,\n",
       "     steps=[('var_filter', VarianceThreshold(threshold=0.0)), ('selector', SelectKBest(k=10, score_func=<function f_classif at 0x109648e18>)), ('clf', SVC(C=1.0, cache_size=200, class_weight=None, coef0=0.0,\n",
       "  decision_function_shape='ovr', degree=3, gamma='auto', kernel='rbf',\n",
       "  max_iter=-1, probability=False, random_state=None, shrinking=True,\n",
       "  tol=0.001, verbose=False))]),\n",
       "       fit_params=None, iid=True, n_jobs=-1,\n",
       "       param_grid={'selector__k': [11, 12, 13, 14, 15, 16, 17, 18, 19]},\n",
       "       pre_dispatch='2*n_jobs', refit=True, return_train_score='warn',\n",
       "       scoring=None, verbose=10)"
      ]
     },
     "execution_count": 21,
     "metadata": {},
     "output_type": "execute_result"
    }
   ],
   "source": [
    "grid_search_absdiff.fit(df_train_absdiff, y_train)"
   ]
  },
  {
   "cell_type": "code",
   "execution_count": 22,
   "metadata": {},
   "outputs": [
    {
     "data": {
      "text/plain": [
       "0.7124957670165933"
      ]
     },
     "execution_count": 22,
     "metadata": {},
     "output_type": "execute_result"
    }
   ],
   "source": [
    "grid_search_absdiff.best_score_"
   ]
  },
  {
   "cell_type": "code",
   "execution_count": 23,
   "metadata": {},
   "outputs": [
    {
     "data": {
      "text/plain": [
       "{'selector__k': 12}"
      ]
     },
     "execution_count": 23,
     "metadata": {},
     "output_type": "execute_result"
    }
   ],
   "source": [
    "grid_search_absdiff.best_params_"
   ]
  },
  {
   "cell_type": "code",
   "execution_count": 24,
   "metadata": {},
   "outputs": [
    {
     "data": {
      "text/plain": [
       "0.7320754716981132"
      ]
     },
     "execution_count": 24,
     "metadata": {},
     "output_type": "execute_result"
    }
   ],
   "source": [
    "grid_search_absdiff.score(df_val_absdiff, y_val)"
   ]
  },
  {
   "cell_type": "code",
   "execution_count": 25,
   "metadata": {},
   "outputs": [],
   "source": [
    "selector = grid_search_absdiff.best_estimator_.named_steps.selector"
   ]
  },
  {
   "cell_type": "code",
   "execution_count": 26,
   "metadata": {},
   "outputs": [
    {
     "data": {
      "text/plain": [
       "array([  1,  21,  22,  25,  26,  28,  59,  60,  66,  68,  99, 115])"
      ]
     },
     "execution_count": 26,
     "metadata": {},
     "output_type": "execute_result"
    }
   ],
   "source": [
    "idxs_selected = selector.get_support(indices=True)\n",
    "idxs_selected"
   ]
  },
  {
   "cell_type": "code",
   "execution_count": 27,
   "metadata": {},
   "outputs": [
    {
     "data": {
      "text/html": [
       "<div>\n",
       "<style scoped>\n",
       "    .dataframe tbody tr th:only-of-type {\n",
       "        vertical-align: middle;\n",
       "    }\n",
       "\n",
       "    .dataframe tbody tr th {\n",
       "        vertical-align: top;\n",
       "    }\n",
       "\n",
       "    .dataframe thead th {\n",
       "        text-align: right;\n",
       "    }\n",
       "</style>\n",
       "<table border=\"1\" class=\"dataframe\">\n",
       "  <thead>\n",
       "    <tr style=\"text-align: right;\">\n",
       "      <th></th>\n",
       "      <th>0</th>\n",
       "    </tr>\n",
       "  </thead>\n",
       "  <tbody>\n",
       "    <tr>\n",
       "      <th>1</th>\n",
       "      <td>Ari Index</td>\n",
       "    </tr>\n",
       "    <tr>\n",
       "      <th>21</th>\n",
       "      <td>DT_NN_VBZ</td>\n",
       "    </tr>\n",
       "    <tr>\n",
       "      <th>22</th>\n",
       "      <td>DT_NN___END__</td>\n",
       "    </tr>\n",
       "    <tr>\n",
       "      <th>25</th>\n",
       "      <td>Double Hyphens</td>\n",
       "    </tr>\n",
       "    <tr>\n",
       "      <th>26</th>\n",
       "      <td>E</td>\n",
       "    </tr>\n",
       "    <tr>\n",
       "      <th>28</th>\n",
       "      <td>F</td>\n",
       "    </tr>\n",
       "    <tr>\n",
       "      <th>59</th>\n",
       "      <td>JJ_NN_VBZ</td>\n",
       "    </tr>\n",
       "    <tr>\n",
       "      <th>60</th>\n",
       "      <td>JJ_NN___END__</td>\n",
       "    </tr>\n",
       "    <tr>\n",
       "      <th>66</th>\n",
       "      <td>M</td>\n",
       "    </tr>\n",
       "    <tr>\n",
       "      <th>68</th>\n",
       "      <td>MD_VB_DT</td>\n",
       "    </tr>\n",
       "    <tr>\n",
       "      <th>99</th>\n",
       "      <td>NN_TO_VB</td>\n",
       "    </tr>\n",
       "    <tr>\n",
       "      <th>115</th>\n",
       "      <td>R</td>\n",
       "    </tr>\n",
       "  </tbody>\n",
       "</table>\n",
       "</div>"
      ],
      "text/plain": [
       "                  0\n",
       "1         Ari Index\n",
       "21        DT_NN_VBZ\n",
       "22    DT_NN___END__\n",
       "25   Double Hyphens\n",
       "26                E\n",
       "28                F\n",
       "59        JJ_NN_VBZ\n",
       "60    JJ_NN___END__\n",
       "66                M\n",
       "68         MD_VB_DT\n",
       "99         NN_TO_VB\n",
       "115               R"
      ]
     },
     "execution_count": 27,
     "metadata": {},
     "output_type": "execute_result"
    }
   ],
   "source": [
    "df_feature_names.iloc[idxs_selected]"
   ]
  }
 ],
 "metadata": {
  "kernelspec": {
   "display_name": "Python 3",
   "language": "python",
   "name": "python3"
  },
  "language_info": {
   "codemirror_mode": {
    "name": "ipython",
    "version": 3
   },
   "file_extension": ".py",
   "mimetype": "text/x-python",
   "name": "python",
   "nbconvert_exporter": "python",
   "pygments_lexer": "ipython3",
   "version": "3.6.5"
  }
 },
 "nbformat": 4,
 "nbformat_minor": 2
}
