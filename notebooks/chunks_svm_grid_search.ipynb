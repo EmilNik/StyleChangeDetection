{
 "cells": [
  {
   "cell_type": "code",
   "execution_count": 1,
   "metadata": {},
   "outputs": [],
   "source": [
    "import numpy as np\n",
    "import pandas as pd\n",
    "from sklearn.pipeline import Pipeline\n",
    "from sklearn.preprocessing import StandardScaler\n",
    "from sklearn.feature_selection import VarianceThreshold\n",
    "from sklearn.feature_selection import SelectKBest\n",
    "from sklearn.svm import SVC\n",
    "from sklearn.model_selection import GridSearchCV"
   ]
  },
  {
   "cell_type": "code",
   "execution_count": 2,
   "metadata": {},
   "outputs": [],
   "source": [
    "df_train = pd.read_csv('../data/train_chunks_features_absdiff.csv')"
   ]
  },
  {
   "cell_type": "code",
   "execution_count": 3,
   "metadata": {},
   "outputs": [],
   "source": [
    "features = df_train.columns.drop('different_author')\n",
    "\n",
    "X = df_train[features]\n",
    "y = list(map(lambda y: int(y), df_train['different_author']))"
   ]
  },
  {
   "cell_type": "code",
   "execution_count": 4,
   "metadata": {},
   "outputs": [],
   "source": [
    "pipeline = Pipeline([\n",
    "    ('scaler', StandardScaler()),\n",
    "    ('var_filter', VarianceThreshold()),\n",
    "    ('selector', SelectKBest()),\n",
    "    ('clf', SVC()),\n",
    "])"
   ]
  },
  {
   "cell_type": "code",
   "execution_count": 5,
   "metadata": {},
   "outputs": [],
   "source": [
    "parameters = {\n",
    "    'selector__k': (150, 200, 250),\n",
    "    'clf__gamma': np.logspace(-4, -2, 15),\n",
    "}"
   ]
  },
  {
   "cell_type": "code",
   "execution_count": 6,
   "metadata": {},
   "outputs": [
    {
     "data": {
      "text/plain": [
       "GridSearchCV(cv=None, error_score='raise',\n",
       "       estimator=Pipeline(memory=None,\n",
       "     steps=[('scaler', StandardScaler(copy=True, with_mean=True, with_std=True)), ('var_filter', VarianceThreshold(threshold=0.0)), ('selector', SelectKBest(k=10, score_func=<function f_classif at 0x11387ae18>)), ('clf', SVC(C=1.0, cache_size=200, class_weight=None, coef0=0.0,\n",
       "  decision_function_shape='ovr', degree=3, gamma='auto', kernel='rbf',\n",
       "  max_iter=-1, probability=False, random_state=None, shrinking=True,\n",
       "  tol=0.001, verbose=False))]),\n",
       "       fit_params=None, iid=True, n_jobs=-1,\n",
       "       param_grid={'selector__k': (150, 200, 250), 'clf__gamma': array([0.0001 , 0.00014, 0.00019, 0.00027, 0.00037, 0.00052, 0.00072,\n",
       "       0.001  , 0.00139, 0.00193, 0.00268, 0.00373, 0.00518, 0.0072 ,\n",
       "       0.01   ])},\n",
       "       pre_dispatch='2*n_jobs', refit=True, return_train_score='warn',\n",
       "       scoring=None, verbose=10)"
      ]
     },
     "execution_count": 6,
     "metadata": {},
     "output_type": "execute_result"
    }
   ],
   "source": [
    "grid_search = GridSearchCV(pipeline, parameters, n_jobs=-1, verbose=10)\n",
    "grid_search"
   ]
  },
  {
   "cell_type": "code",
   "execution_count": 7,
   "metadata": {},
   "outputs": [
    {
     "name": "stdout",
     "output_type": "stream",
     "text": [
      "Fitting 3 folds for each of 45 candidates, totalling 135 fits\n",
      "[CV] clf__gamma=0.0001, selector__k=150 ..............................\n",
      "[CV] clf__gamma=0.0001, selector__k=150 ..............................\n",
      "[CV] clf__gamma=0.0001, selector__k=150 ..............................\n",
      "[CV] clf__gamma=0.0001, selector__k=200 ..............................\n",
      "[CV]  clf__gamma=0.0001, selector__k=150, score=0.6615853658536586, total=   8.9s\n",
      "[CV] clf__gamma=0.0001, selector__k=200 ..............................\n",
      "[CV]  clf__gamma=0.0001, selector__k=150, score=0.6453252032520326, total=   9.0s\n",
      "[CV]  clf__gamma=0.0001, selector__k=150, score=0.6598984771573604, total=   9.0s\n",
      "[CV] clf__gamma=0.0001, selector__k=200 ..............................\n",
      "[CV] clf__gamma=0.0001, selector__k=250 ..............................\n",
      "[CV]  clf__gamma=0.0001, selector__k=200, score=0.665989847715736, total=  10.8s\n",
      "[CV] clf__gamma=0.0001, selector__k=250 ..............................\n",
      "[CV]  clf__gamma=0.0001, selector__k=200, score=0.6646341463414634, total=  10.3s\n",
      "[CV] clf__gamma=0.0001, selector__k=250 ..............................\n",
      "[CV]  clf__gamma=0.0001, selector__k=200, score=0.6514227642276422, total=  10.4s\n"
     ]
    },
    {
     "name": "stderr",
     "output_type": "stream",
     "text": [
      "[Parallel(n_jobs=-1)]: Done   5 tasks      | elapsed:   30.1s\n"
     ]
    },
    {
     "name": "stdout",
     "output_type": "stream",
     "text": [
      "[CV] clf__gamma=0.00013894954943731373, selector__k=150 ..............\n",
      "[CV]  clf__gamma=0.0001, selector__k=250, score=0.6690355329949239, total=  12.2s\n",
      "[CV] clf__gamma=0.00013894954943731373, selector__k=150 ..............\n",
      "[CV]  clf__gamma=0.0001, selector__k=250, score=0.6565040650406504, total=  11.9s\n",
      "[CV] clf__gamma=0.00013894954943731373, selector__k=150 ..............\n",
      "[CV]  clf__gamma=0.00013894954943731373, selector__k=150, score=0.665989847715736, total=   7.8s\n",
      "[CV] clf__gamma=0.00013894954943731373, selector__k=200 ..............\n",
      "[CV]  clf__gamma=0.00013894954943731373, selector__k=150, score=0.6529471544715447, total=   8.0s\n",
      "[CV] clf__gamma=0.00013894954943731373, selector__k=200 ..............\n"
     ]
    },
    {
     "name": "stderr",
     "output_type": "stream",
     "text": [
      "[Parallel(n_jobs=-1)]: Done  10 tasks      | elapsed:   46.0s\n"
     ]
    },
    {
     "name": "stdout",
     "output_type": "stream",
     "text": [
      "[CV]  clf__gamma=0.00013894954943731373, selector__k=150, score=0.6717479674796748, total=   7.7s\n",
      "[CV] clf__gamma=0.00013894954943731373, selector__k=200 ..............\n",
      "[CV]  clf__gamma=0.0001, selector__k=250, score=0.6666666666666666, total=  12.2s\n",
      "[CV] clf__gamma=0.00013894954943731373, selector__k=250 ..............\n",
      "[CV]  clf__gamma=0.00013894954943731373, selector__k=200, score=0.6695431472081218, total=   9.6s\n",
      "[CV] clf__gamma=0.00013894954943731373, selector__k=250 ..............\n",
      "[CV]  clf__gamma=0.00013894954943731373, selector__k=200, score=0.654979674796748, total=   9.8s\n",
      "[CV] clf__gamma=0.00013894954943731373, selector__k=250 ..............\n",
      "[CV]  clf__gamma=0.00013894954943731373, selector__k=200, score=0.6686991869918699, total=   9.8s\n",
      "[CV] clf__gamma=0.00019306977288832496, selector__k=150 ..............\n",
      "[CV]  clf__gamma=0.00013894954943731373, selector__k=250, score=0.6736040609137056, total=  11.5s\n",
      "[CV] clf__gamma=0.00019306977288832496, selector__k=150 ..............\n",
      "[CV]  clf__gamma=0.00019306977288832496, selector__k=150, score=0.6705583756345178, total=   7.6s\n",
      "[CV] clf__gamma=0.00019306977288832496, selector__k=150 ..............\n",
      "[CV]  clf__gamma=0.00013894954943731373, selector__k=250, score=0.6626016260162602, total=  11.4s\n",
      "[CV] clf__gamma=0.00019306977288832496, selector__k=200 ..............\n"
     ]
    },
    {
     "name": "stderr",
     "output_type": "stream",
     "text": [
      "[Parallel(n_jobs=-1)]: Done  17 tasks      | elapsed:  1.3min\n"
     ]
    },
    {
     "name": "stdout",
     "output_type": "stream",
     "text": [
      "[CV]  clf__gamma=0.00019306977288832496, selector__k=150, score=0.6539634146341463, total=   7.5s\n",
      "[CV] clf__gamma=0.00019306977288832496, selector__k=200 ..............\n",
      "[CV]  clf__gamma=0.00013894954943731373, selector__k=250, score=0.6702235772357723, total=  11.8s\n",
      "[CV] clf__gamma=0.00019306977288832496, selector__k=200 ..............\n",
      "[CV]  clf__gamma=0.00019306977288832496, selector__k=150, score=0.6697154471544715, total=   7.7s\n",
      "[CV] clf__gamma=0.00019306977288832496, selector__k=250 ..............\n",
      "[CV]  clf__gamma=0.00019306977288832496, selector__k=200, score=0.6720812182741117, total=   9.4s\n",
      "[CV] clf__gamma=0.00019306977288832496, selector__k=250 ..............\n",
      "[CV]  clf__gamma=0.00019306977288832496, selector__k=200, score=0.6626016260162602, total=   9.2s\n",
      "[CV] clf__gamma=0.00019306977288832496, selector__k=250 ..............\n",
      "[CV]  clf__gamma=0.00019306977288832496, selector__k=200, score=0.6681910569105691, total=   9.2s\n",
      "[CV] clf__gamma=0.00026826957952797245, selector__k=150 ..............\n"
     ]
    },
    {
     "name": "stderr",
     "output_type": "stream",
     "text": [
      "[Parallel(n_jobs=-1)]: Done  24 tasks      | elapsed:  1.6min\n"
     ]
    },
    {
     "name": "stdout",
     "output_type": "stream",
     "text": [
      "[CV]  clf__gamma=0.00019306977288832496, selector__k=250, score=0.682233502538071, total=  11.2s\n",
      "[CV] clf__gamma=0.00026826957952797245, selector__k=150 ..............\n",
      "[CV]  clf__gamma=0.00026826957952797245, selector__k=150, score=0.666497461928934, total=   7.6s\n",
      "[CV] clf__gamma=0.00026826957952797245, selector__k=150 ..............\n",
      "[CV]  clf__gamma=0.00019306977288832496, selector__k=250, score=0.6646341463414634, total=  11.6s\n",
      "[CV] clf__gamma=0.00026826957952797245, selector__k=200 ..............\n",
      "[CV]  clf__gamma=0.00019306977288832496, selector__k=250, score=0.6763211382113821, total=  11.3s\n",
      "[CV] clf__gamma=0.00026826957952797245, selector__k=200 ..............\n",
      "[CV]  clf__gamma=0.00026826957952797245, selector__k=150, score=0.6539634146341463, total=   7.4s\n",
      "[CV] clf__gamma=0.00026826957952797245, selector__k=200 ..............\n",
      "[CV]  clf__gamma=0.00026826957952797245, selector__k=150, score=0.6686991869918699, total=   7.4s\n",
      "[CV] clf__gamma=0.00026826957952797245, selector__k=250 ..............\n",
      "[CV]  clf__gamma=0.00026826957952797245, selector__k=200, score=0.6781725888324873, total=   8.9s\n",
      "[CV] clf__gamma=0.00026826957952797245, selector__k=250 ..............\n",
      "[CV]  clf__gamma=0.00026826957952797245, selector__k=200, score=0.6671747967479674, total=   8.8s\n",
      "[CV] clf__gamma=0.00026826957952797245, selector__k=250 ..............\n",
      "[CV]  clf__gamma=0.00026826957952797245, selector__k=200, score=0.6692073170731707, total=   9.0s\n",
      "[CV] clf__gamma=0.0003727593720314938, selector__k=150 ...............\n"
     ]
    },
    {
     "name": "stderr",
     "output_type": "stream",
     "text": [
      "[Parallel(n_jobs=-1)]: Done  33 tasks      | elapsed:  2.2min\n"
     ]
    },
    {
     "name": "stdout",
     "output_type": "stream",
     "text": [
      "[CV]  clf__gamma=0.00026826957952797245, selector__k=250, score=0.6847715736040609, total=  10.9s\n",
      "[CV] clf__gamma=0.0003727593720314938, selector__k=150 ...............\n",
      "[CV]  clf__gamma=0.00026826957952797245, selector__k=250, score=0.6788617886178862, total=  10.8s\n",
      "[CV] clf__gamma=0.0003727593720314938, selector__k=150 ...............\n",
      "[CV]  clf__gamma=0.0003727593720314938, selector__k=150, score=0.6710659898477157, total=   7.0s\n",
      "[CV] clf__gamma=0.0003727593720314938, selector__k=200 ...............\n",
      "[CV]  clf__gamma=0.00026826957952797245, selector__k=250, score=0.6758130081300813, total=  10.8s\n",
      "[CV] clf__gamma=0.0003727593720314938, selector__k=200 ...............\n",
      "[CV]  clf__gamma=0.0003727593720314938, selector__k=150, score=0.6559959349593496, total=   7.6s\n",
      "[CV] clf__gamma=0.0003727593720314938, selector__k=200 ...............\n",
      "[CV]  clf__gamma=0.0003727593720314938, selector__k=150, score=0.6692073170731707, total=   8.8s\n",
      "[CV] clf__gamma=0.0003727593720314938, selector__k=250 ...............\n",
      "[CV]  clf__gamma=0.0003727593720314938, selector__k=200, score=0.6842639593908629, total=  10.1s\n",
      "[CV] clf__gamma=0.0003727593720314938, selector__k=250 ...............\n",
      "[CV]  clf__gamma=0.0003727593720314938, selector__k=200, score=0.6732723577235772, total=   9.9s\n",
      "[CV] clf__gamma=0.0003727593720314938, selector__k=250 ...............\n",
      "[CV]  clf__gamma=0.0003727593720314938, selector__k=200, score=0.6697154471544715, total=  10.2s\n",
      "[CV] clf__gamma=0.0005179474679231213, selector__k=150 ...............\n"
     ]
    },
    {
     "name": "stderr",
     "output_type": "stream",
     "text": [
      "[Parallel(n_jobs=-1)]: Done  42 tasks      | elapsed:  2.7min\n"
     ]
    },
    {
     "name": "stdout",
     "output_type": "stream",
     "text": [
      "[CV]  clf__gamma=0.0003727593720314938, selector__k=250, score=0.6954314720812182, total=  12.4s\n",
      "[CV] clf__gamma=0.0005179474679231213, selector__k=150 ...............\n",
      "[CV]  clf__gamma=0.0005179474679231213, selector__k=150, score=0.6761421319796954, total=   7.0s\n",
      "[CV] clf__gamma=0.0005179474679231213, selector__k=150 ...............\n",
      "[CV]  clf__gamma=0.0003727593720314938, selector__k=250, score=0.6747967479674797, total=  11.1s\n",
      "[CV] clf__gamma=0.0005179474679231213, selector__k=200 ...............\n",
      "[CV]  clf__gamma=0.0003727593720314938, selector__k=250, score=0.6702235772357723, total=  11.0s\n",
      "[CV] clf__gamma=0.0005179474679231213, selector__k=200 ...............\n",
      "[CV]  clf__gamma=0.0005179474679231213, selector__k=150, score=0.654979674796748, total=   7.6s\n",
      "[CV] clf__gamma=0.0005179474679231213, selector__k=200 ...............\n",
      "[CV]  clf__gamma=0.0005179474679231213, selector__k=150, score=0.6681910569105691, total=   7.2s\n",
      "[CV] clf__gamma=0.0005179474679231213, selector__k=250 ...............\n",
      "[CV]  clf__gamma=0.0005179474679231213, selector__k=200, score=0.6852791878172588, total=   8.5s\n",
      "[CV] clf__gamma=0.0005179474679231213, selector__k=250 ...............\n",
      "[CV]  clf__gamma=0.0005179474679231213, selector__k=200, score=0.6742886178861789, total=   8.3s\n",
      "[CV] clf__gamma=0.0005179474679231213, selector__k=250 ...............\n",
      "[CV]  clf__gamma=0.0005179474679231213, selector__k=200, score=0.6722560975609756, total=   8.5s\n",
      "[CV] clf__gamma=0.0007196856730011522, selector__k=150 ...............\n",
      "[CV]  clf__gamma=0.0005179474679231213, selector__k=250, score=0.6949238578680204, total=  10.3s\n",
      "[CV] clf__gamma=0.0007196856730011522, selector__k=150 ...............\n",
      "[CV]  clf__gamma=0.0005179474679231213, selector__k=250, score=0.6753048780487805, total=  10.2s\n",
      "[CV] clf__gamma=0.0007196856730011522, selector__k=150 ...............\n"
     ]
    },
    {
     "name": "stderr",
     "output_type": "stream",
     "text": [
      "[Parallel(n_jobs=-1)]: Done  53 tasks      | elapsed:  3.5min\n"
     ]
    },
    {
     "name": "stdout",
     "output_type": "stream",
     "text": [
      "[CV]  clf__gamma=0.0007196856730011522, selector__k=150, score=0.6802030456852792, total=   6.6s\n",
      "[CV] clf__gamma=0.0007196856730011522, selector__k=200 ...............\n",
      "[CV]  clf__gamma=0.0005179474679231213, selector__k=250, score=0.676829268292683, total=  10.2s\n",
      "[CV] clf__gamma=0.0007196856730011522, selector__k=200 ...............\n",
      "[CV]  clf__gamma=0.0007196856730011522, selector__k=150, score=0.663109756097561, total=   6.6s\n",
      "[CV] clf__gamma=0.0007196856730011522, selector__k=200 ...............\n",
      "[CV]  clf__gamma=0.0007196856730011522, selector__k=150, score=0.6681910569105691, total=   6.8s\n",
      "[CV] clf__gamma=0.0007196856730011522, selector__k=250 ...............\n",
      "[CV]  clf__gamma=0.0007196856730011522, selector__k=200, score=0.6903553299492385, total=   8.3s\n",
      "[CV] clf__gamma=0.0007196856730011522, selector__k=250 ...............\n",
      "[CV]  clf__gamma=0.0007196856730011522, selector__k=200, score=0.6732723577235772, total=   8.1s\n",
      "[CV] clf__gamma=0.0007196856730011522, selector__k=250 ...............\n",
      "[CV]  clf__gamma=0.0007196856730011522, selector__k=200, score=0.6747967479674797, total=   8.0s\n",
      "[CV] clf__gamma=0.001, selector__k=150 ...............................\n",
      "[CV]  clf__gamma=0.0007196856730011522, selector__k=250, score=0.700507614213198, total=   9.9s\n",
      "[CV] clf__gamma=0.001, selector__k=150 ...............................\n",
      "[CV]  clf__gamma=0.001, selector__k=150, score=0.6812182741116751, total=   6.5s\n",
      "[CV] clf__gamma=0.001, selector__k=150 ...............................\n",
      "[CV]  clf__gamma=0.0007196856730011522, selector__k=250, score=0.6742886178861789, total=   9.8s\n",
      "[CV] clf__gamma=0.001, selector__k=200 ...............................\n",
      "[CV]  clf__gamma=0.0007196856730011522, selector__k=250, score=0.6747967479674797, total=   9.9s\n",
      "[CV] clf__gamma=0.001, selector__k=200 ...............................\n"
     ]
    },
    {
     "name": "stderr",
     "output_type": "stream",
     "text": [
      "[Parallel(n_jobs=-1)]: Done  64 tasks      | elapsed:  4.0min\n"
     ]
    },
    {
     "name": "stdout",
     "output_type": "stream",
     "text": [
      "[CV]  clf__gamma=0.001, selector__k=150, score=0.6676829268292683, total=   6.6s\n",
      "[CV] clf__gamma=0.001, selector__k=200 ...............................\n",
      "[CV]  clf__gamma=0.001, selector__k=150, score=0.6707317073170732, total=   7.0s\n",
      "[CV] clf__gamma=0.001, selector__k=250 ...............................\n",
      "[CV]  clf__gamma=0.001, selector__k=200, score=0.6954314720812182, total=   8.5s\n",
      "[CV] clf__gamma=0.001, selector__k=250 ...............................\n",
      "[CV]  clf__gamma=0.001, selector__k=200, score=0.6763211382113821, total=   8.4s\n",
      "[CV] clf__gamma=0.001, selector__k=250 ...............................\n",
      "[CV]  clf__gamma=0.001, selector__k=200, score=0.6783536585365854, total=   8.1s\n",
      "[CV] clf__gamma=0.0013894954943731374, selector__k=150 ...............\n",
      "[CV]  clf__gamma=0.001, selector__k=250, score=0.7076142131979696, total=  10.4s\n",
      "[CV] clf__gamma=0.0013894954943731374, selector__k=150 ...............\n",
      "[CV]  clf__gamma=0.001, selector__k=250, score=0.6758130081300813, total=  10.3s\n",
      "[CV] clf__gamma=0.0013894954943731374, selector__k=150 ...............\n",
      "[CV]  clf__gamma=0.001, selector__k=250, score=0.6808943089430894, total=  10.4s\n",
      "[CV] clf__gamma=0.0013894954943731374, selector__k=200 ...............\n",
      "[CV]  clf__gamma=0.0013894954943731374, selector__k=150, score=0.6802030456852792, total=   6.3s\n",
      "[CV] clf__gamma=0.0013894954943731374, selector__k=200 ...............\n",
      "[CV]  clf__gamma=0.0013894954943731374, selector__k=150, score=0.6702235772357723, total=   6.6s\n",
      "[CV] clf__gamma=0.0013894954943731374, selector__k=200 ...............\n",
      "[CV]  clf__gamma=0.0013894954943731374, selector__k=150, score=0.6778455284552846, total=   6.8s\n",
      "[CV] clf__gamma=0.0013894954943731374, selector__k=250 ...............\n",
      "[CV]  clf__gamma=0.0013894954943731374, selector__k=200, score=0.6959390862944163, total=   9.1s\n",
      "[CV] clf__gamma=0.0013894954943731374, selector__k=250 ...............\n",
      "[CV]  clf__gamma=0.0013894954943731374, selector__k=200, score=0.6844512195121951, total=   8.9s\n",
      "[CV] clf__gamma=0.0013894954943731374, selector__k=250 ...............\n"
     ]
    },
    {
     "name": "stderr",
     "output_type": "stream",
     "text": [
      "[Parallel(n_jobs=-1)]: Done  77 tasks      | elapsed:  4.7min\n"
     ]
    },
    {
     "name": "stdout",
     "output_type": "stream",
     "text": [
      "[CV]  clf__gamma=0.0013894954943731374, selector__k=200, score=0.6808943089430894, total=   9.4s\n",
      "[CV] clf__gamma=0.0019306977288832496, selector__k=150 ...............\n",
      "[CV]  clf__gamma=0.0013894954943731374, selector__k=250, score=0.7157360406091371, total=  10.7s\n",
      "[CV] clf__gamma=0.0019306977288832496, selector__k=150 ...............\n",
      "[CV]  clf__gamma=0.0013894954943731374, selector__k=250, score=0.676829268292683, total=  11.0s\n",
      "[CV] clf__gamma=0.0019306977288832496, selector__k=150 ...............\n",
      "[CV]  clf__gamma=0.0013894954943731374, selector__k=250, score=0.6875, total=  11.3s\n",
      "[CV] clf__gamma=0.0019306977288832496, selector__k=200 ...............\n",
      "[CV]  clf__gamma=0.0019306977288832496, selector__k=150, score=0.6868020304568528, total=   7.6s\n",
      "[CV] clf__gamma=0.0019306977288832496, selector__k=200 ...............\n",
      "[CV]  clf__gamma=0.0019306977288832496, selector__k=150, score=0.6737804878048781, total=   6.7s\n",
      "[CV] clf__gamma=0.0019306977288832496, selector__k=200 ...............\n",
      "[CV]  clf__gamma=0.0019306977288832496, selector__k=150, score=0.676829268292683, total=   6.7s\n",
      "[CV] clf__gamma=0.0019306977288832496, selector__k=250 ...............\n",
      "[CV]  clf__gamma=0.0019306977288832496, selector__k=200, score=0.6875, total=   8.0s\n",
      "[CV] clf__gamma=0.0019306977288832496, selector__k=250 ...............\n",
      "[CV]  clf__gamma=0.0019306977288832496, selector__k=200, score=0.700507614213198, total=   8.3s\n",
      "[CV] clf__gamma=0.0019306977288832496, selector__k=250 ...............\n",
      "[CV]  clf__gamma=0.0019306977288832496, selector__k=200, score=0.6885162601626016, total=   8.2s\n",
      "[CV] clf__gamma=0.0026826957952797246, selector__k=150 ...............\n",
      "[CV]  clf__gamma=0.0019306977288832496, selector__k=250, score=0.7116751269035533, total=  10.3s\n",
      "[CV] clf__gamma=0.0026826957952797246, selector__k=150 ...............\n",
      "[CV]  clf__gamma=0.0026826957952797246, selector__k=150, score=0.6857868020304568, total=   6.5s\n",
      "[CV] clf__gamma=0.0026826957952797246, selector__k=150 ...............\n",
      "[CV]  clf__gamma=0.0019306977288832496, selector__k=250, score=0.6773373983739838, total=  10.0s\n",
      "[CV] clf__gamma=0.0026826957952797246, selector__k=200 ...............\n"
     ]
    },
    {
     "name": "stderr",
     "output_type": "stream",
     "text": [
      "[Parallel(n_jobs=-1)]: Done  90 tasks      | elapsed:  5.5min\n"
     ]
    },
    {
     "name": "stdout",
     "output_type": "stream",
     "text": [
      "[CV]  clf__gamma=0.0019306977288832496, selector__k=250, score=0.693089430894309, total=  10.1s\n",
      "[CV] clf__gamma=0.0026826957952797246, selector__k=200 ...............\n",
      "[CV]  clf__gamma=0.0026826957952797246, selector__k=150, score=0.6803861788617886, total=   6.4s\n",
      "[CV] clf__gamma=0.0026826957952797246, selector__k=200 ...............\n",
      "[CV]  clf__gamma=0.0026826957952797246, selector__k=150, score=0.6788617886178862, total=   6.5s\n",
      "[CV] clf__gamma=0.0026826957952797246, selector__k=250 ...............\n",
      "[CV]  clf__gamma=0.0026826957952797246, selector__k=200, score=0.7020304568527919, total=   8.1s\n",
      "[CV] clf__gamma=0.0026826957952797246, selector__k=250 ...............\n",
      "[CV]  clf__gamma=0.0026826957952797246, selector__k=200, score=0.695630081300813, total=   8.0s\n",
      "[CV] clf__gamma=0.0026826957952797246, selector__k=250 ...............\n",
      "[CV]  clf__gamma=0.0026826957952797246, selector__k=200, score=0.6905487804878049, total=   8.4s\n",
      "[CV] clf__gamma=0.003727593720314938, selector__k=150 ................\n",
      "[CV]  clf__gamma=0.0026826957952797246, selector__k=250, score=0.7055837563451777, total=  10.5s\n",
      "[CV] clf__gamma=0.003727593720314938, selector__k=150 ................\n",
      "[CV]  clf__gamma=0.0026826957952797246, selector__k=250, score=0.6758130081300813, total=  10.8s\n",
      "[CV] clf__gamma=0.003727593720314938, selector__k=150 ................\n",
      "[CV]  clf__gamma=0.0026826957952797246, selector__k=250, score=0.6986788617886179, total=  10.8s\n",
      "[CV] clf__gamma=0.003727593720314938, selector__k=200 ................\n",
      "[CV]  clf__gamma=0.003727593720314938, selector__k=150, score=0.6842639593908629, total=   7.4s\n",
      "[CV] clf__gamma=0.003727593720314938, selector__k=200 ................\n",
      "[CV]  clf__gamma=0.003727593720314938, selector__k=150, score=0.6798780487804879, total=   7.6s\n",
      "[CV] clf__gamma=0.003727593720314938, selector__k=200 ................\n",
      "[CV]  clf__gamma=0.003727593720314938, selector__k=150, score=0.6849593495934959, total=   7.7s\n",
      "[CV] clf__gamma=0.003727593720314938, selector__k=250 ................\n",
      "[CV]  clf__gamma=0.003727593720314938, selector__k=200, score=0.700507614213198, total=   9.6s\n",
      "[CV] clf__gamma=0.003727593720314938, selector__k=250 ................\n",
      "[CV]  clf__gamma=0.003727593720314938, selector__k=200, score=0.7007113821138211, total=   9.1s\n",
      "[CV] clf__gamma=0.003727593720314938, selector__k=250 ................\n",
      "[CV]  clf__gamma=0.003727593720314938, selector__k=200, score=0.6971544715447154, total=   8.6s\n",
      "[CV] clf__gamma=0.005179474679231213, selector__k=150 ................\n"
     ]
    },
    {
     "name": "stderr",
     "output_type": "stream",
     "text": [
      "[Parallel(n_jobs=-1)]: Done 105 tasks      | elapsed:  6.4min\n"
     ]
    },
    {
     "name": "stdout",
     "output_type": "stream",
     "text": [
      "[CV]  clf__gamma=0.003727593720314938, selector__k=250, score=0.7045685279187818, total=  10.7s\n",
      "[CV] clf__gamma=0.005179474679231213, selector__k=150 ................\n",
      "[CV]  clf__gamma=0.003727593720314938, selector__k=250, score=0.6742886178861789, total=  10.6s\n",
      "[CV] clf__gamma=0.005179474679231213, selector__k=150 ................\n",
      "[CV]  clf__gamma=0.003727593720314938, selector__k=250, score=0.6966463414634146, total=  10.7s\n",
      "[CV] clf__gamma=0.005179474679231213, selector__k=200 ................\n",
      "[CV]  clf__gamma=0.005179474679231213, selector__k=150, score=0.6837563451776649, total=   7.0s\n",
      "[CV] clf__gamma=0.005179474679231213, selector__k=200 ................\n",
      "[CV]  clf__gamma=0.005179474679231213, selector__k=150, score=0.6798780487804879, total=   6.8s\n",
      "[CV] clf__gamma=0.005179474679231213, selector__k=200 ................\n",
      "[CV]  clf__gamma=0.005179474679231213, selector__k=150, score=0.6915650406504065, total=   6.8s\n",
      "[CV] clf__gamma=0.005179474679231213, selector__k=250 ................\n",
      "[CV]  clf__gamma=0.005179474679231213, selector__k=200, score=0.6961382113821138, total=   8.9s\n",
      "[CV]  clf__gamma=0.005179474679231213, selector__k=200, score=0.6949238578680204, total=   8.9s\n",
      "[CV] clf__gamma=0.005179474679231213, selector__k=250 ................\n",
      "[CV] clf__gamma=0.005179474679231213, selector__k=250 ................\n",
      "[CV]  clf__gamma=0.005179474679231213, selector__k=200, score=0.7012195121951219, total=   8.7s\n",
      "[CV] clf__gamma=0.007196856730011514, selector__k=150 ................\n",
      "[CV]  clf__gamma=0.005179474679231213, selector__k=250, score=0.700507614213198, total=  11.3s\n",
      "[CV] clf__gamma=0.007196856730011514, selector__k=150 ................\n",
      "[CV]  clf__gamma=0.007196856730011514, selector__k=150, score=0.6903553299492385, total=   7.0s\n",
      "[CV] clf__gamma=0.007196856730011514, selector__k=150 ................\n",
      "[CV]  clf__gamma=0.005179474679231213, selector__k=250, score=0.7088414634146342, total=  11.0s\n",
      "[CV] clf__gamma=0.007196856730011514, selector__k=200 ................\n",
      "[CV]  clf__gamma=0.005179474679231213, selector__k=250, score=0.6773373983739838, total=  11.3s\n",
      "[CV] clf__gamma=0.007196856730011514, selector__k=200 ................\n",
      "[CV]  clf__gamma=0.007196856730011514, selector__k=150, score=0.6788617886178862, total=   7.1s\n",
      "[CV] clf__gamma=0.007196856730011514, selector__k=200 ................\n",
      "[CV]  clf__gamma=0.007196856730011514, selector__k=150, score=0.6935975609756098, total=   7.2s\n",
      "[CV] clf__gamma=0.007196856730011514, selector__k=250 ................\n"
     ]
    },
    {
     "name": "stderr",
     "output_type": "stream",
     "text": [
      "[Parallel(n_jobs=-1)]: Done 120 tasks      | elapsed:  7.2min\n"
     ]
    },
    {
     "name": "stdout",
     "output_type": "stream",
     "text": [
      "[CV]  clf__gamma=0.007196856730011514, selector__k=200, score=0.6949238578680204, total=   9.4s\n",
      "[CV] clf__gamma=0.007196856730011514, selector__k=250 ................\n",
      "[CV]  clf__gamma=0.007196856730011514, selector__k=200, score=0.6895325203252033, total=   9.3s\n",
      "[CV] clf__gamma=0.007196856730011514, selector__k=250 ................\n",
      "[CV]  clf__gamma=0.007196856730011514, selector__k=200, score=0.6996951219512195, total=   9.3s\n",
      "[CV] clf__gamma=0.01, selector__k=150 ................................\n",
      "[CV]  clf__gamma=0.007196856730011514, selector__k=250, score=0.6934010152284263, total=  12.4s\n",
      "[CV] clf__gamma=0.01, selector__k=150 ................................\n",
      "[CV]  clf__gamma=0.01, selector__k=150, score=0.6862944162436548, total=   7.4s\n",
      "[CV] clf__gamma=0.01, selector__k=150 ................................\n",
      "[CV]  clf__gamma=0.007196856730011514, selector__k=250, score=0.6737804878048781, total=  12.6s\n",
      "[CV] clf__gamma=0.01, selector__k=200 ................................\n",
      "[CV]  clf__gamma=0.007196856730011514, selector__k=250, score=0.7154471544715447, total=  12.9s\n",
      "[CV] clf__gamma=0.01, selector__k=200 ................................\n",
      "[CV]  clf__gamma=0.01, selector__k=150, score=0.679369918699187, total=   7.5s\n",
      "[CV] clf__gamma=0.01, selector__k=200 ................................\n",
      "[CV]  clf__gamma=0.01, selector__k=150, score=0.6935975609756098, total=   7.6s\n",
      "[CV] clf__gamma=0.01, selector__k=250 ................................\n",
      "[CV]  clf__gamma=0.01, selector__k=200, score=0.6893401015228426, total=  10.4s\n",
      "[CV] clf__gamma=0.01, selector__k=250 ................................\n",
      "[CV]  clf__gamma=0.01, selector__k=200, score=0.6920731707317073, total=  10.9s\n",
      "[CV] clf__gamma=0.01, selector__k=250 ................................\n",
      "[CV]  clf__gamma=0.01, selector__k=200, score=0.7022357723577236, total=  10.3s\n",
      "[CV]  clf__gamma=0.01, selector__k=250, score=0.6847715736040609, total=  12.5s\n",
      "[CV]  clf__gamma=0.01, selector__k=250, score=0.6732723577235772, total=  11.5s\n",
      "[CV]  clf__gamma=0.01, selector__k=250, score=0.7027439024390244, total=  11.3s\n"
     ]
    },
    {
     "name": "stderr",
     "output_type": "stream",
     "text": [
      "[Parallel(n_jobs=-1)]: Done 135 out of 135 | elapsed:  8.2min finished\n"
     ]
    },
    {
     "data": {
      "text/plain": [
       "GridSearchCV(cv=None, error_score='raise',\n",
       "       estimator=Pipeline(memory=None,\n",
       "     steps=[('scaler', StandardScaler(copy=True, with_mean=True, with_std=True)), ('var_filter', VarianceThreshold(threshold=0.0)), ('selector', SelectKBest(k=10, score_func=<function f_classif at 0x11387ae18>)), ('clf', SVC(C=1.0, cache_size=200, class_weight=None, coef0=0.0,\n",
       "  decision_function_shape='ovr', degree=3, gamma='auto', kernel='rbf',\n",
       "  max_iter=-1, probability=False, random_state=None, shrinking=True,\n",
       "  tol=0.001, verbose=False))]),\n",
       "       fit_params=None, iid=True, n_jobs=-1,\n",
       "       param_grid={'selector__k': (150, 200, 250), 'clf__gamma': array([0.0001 , 0.00014, 0.00019, 0.00027, 0.00037, 0.00052, 0.00072,\n",
       "       0.001  , 0.00139, 0.00193, 0.00268, 0.00373, 0.00518, 0.0072 ,\n",
       "       0.01   ])},\n",
       "       pre_dispatch='2*n_jobs', refit=True, return_train_score='warn',\n",
       "       scoring=None, verbose=10)"
      ]
     },
     "execution_count": 7,
     "metadata": {},
     "output_type": "execute_result"
    }
   ],
   "source": [
    "grid_search.fit(X, y)"
   ]
  },
  {
   "cell_type": "code",
   "execution_count": 8,
   "metadata": {},
   "outputs": [
    {
     "data": {
      "text/plain": [
       "0.6994581781239417"
      ]
     },
     "execution_count": 8,
     "metadata": {},
     "output_type": "execute_result"
    }
   ],
   "source": [
    "grid_search.best_score_"
   ]
  },
  {
   "cell_type": "code",
   "execution_count": 9,
   "metadata": {},
   "outputs": [
    {
     "data": {
      "text/plain": [
       "{'clf__gamma': 0.003727593720314938, 'selector__k': 200}"
      ]
     },
     "execution_count": 9,
     "metadata": {},
     "output_type": "execute_result"
    }
   ],
   "source": [
    "grid_search.best_params_"
   ]
  },
  {
   "cell_type": "code",
   "execution_count": 10,
   "metadata": {},
   "outputs": [],
   "source": [
    "df_test = pd.read_csv('../data/validation_chunks_features_absdiff.csv')"
   ]
  },
  {
   "cell_type": "code",
   "execution_count": 11,
   "metadata": {},
   "outputs": [],
   "source": [
    "X_test = df_test[features]\n",
    "y_test = list(map(lambda y: int(y), df_test['different_author']))"
   ]
  },
  {
   "cell_type": "code",
   "execution_count": 12,
   "metadata": {},
   "outputs": [
    {
     "data": {
      "text/plain": [
       "0.7289879931389366"
      ]
     },
     "execution_count": 12,
     "metadata": {},
     "output_type": "execute_result"
    }
   ],
   "source": [
    "grid_search.score(X_test, y_test)"
   ]
  }
 ],
 "metadata": {
  "kernelspec": {
   "display_name": "Python 3",
   "language": "python",
   "name": "python3"
  },
  "language_info": {
   "codemirror_mode": {
    "name": "ipython",
    "version": 3
   },
   "file_extension": ".py",
   "mimetype": "text/x-python",
   "name": "python",
   "nbconvert_exporter": "python",
   "pygments_lexer": "ipython3",
   "version": "3.6.5"
  }
 },
 "nbformat": 4,
 "nbformat_minor": 2
}
