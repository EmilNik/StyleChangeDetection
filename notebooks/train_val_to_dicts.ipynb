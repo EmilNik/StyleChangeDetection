{
 "cells": [
  {
   "cell_type": "code",
   "execution_count": 1,
   "metadata": {
    "collapsed": true
   },
   "outputs": [],
   "source": [
    "import sys\n",
    "sys.path.append(\"..\")\n",
    "\n",
    "from src.text_chunk import TextChunk\n",
    "from src.stylometry_extractor import StylometryExtractor"
   ]
  },
  {
   "cell_type": "code",
   "execution_count": 5,
   "metadata": {
    "collapsed": true
   },
   "outputs": [],
   "source": [
    "import pandas as pd\n",
    "\n",
    "train = pd.read_csv('../data/train_chunks.csv', header=None, names=['A','B','different_author'])\n",
    "val = pd.read_csv('../data/validation_chunks.csv', header=None, names=['A','B','different_author'])"
   ]
  },
  {
   "cell_type": "code",
   "execution_count": 7,
   "metadata": {
    "collapsed": true
   },
   "outputs": [],
   "source": [
    "# Using first n_gram vectorizer with 100 features\n",
    "\n",
    "train['A'] = train['A'].apply(lambda text: TextChunk(text).to_dict())\n",
    "train['B'] = train['B'].apply(lambda text: TextChunk(text).to_dict())\n",
    "\n",
    "train.to_csv('../data/train_chunks_dict.csv')\n",
    "\n",
    "val['A'] = val['A'].apply(lambda text: TextChunk(text).to_dict())\n",
    "val['B'] = val['B'].apply(lambda text: TextChunk(text).to_dict())\n",
    "\n",
    "val.to_csv('../data/validation_chunks_dict.csv')"
   ]
  },
  {
   "cell_type": "code",
   "execution_count": 9,
   "metadata": {},
   "outputs": [],
   "source": [
    "# write feature names to csv\n",
    "feature_names = TextChunk(train['A'][0]).feature_names\n",
    "\n",
    "pd.DataFrame(data=feature_names).to_csv('../data/500_ngrams/feature_names.csv')\n",
    "\n",
    "# Using n_gram vectorizer with 500 features\n",
    "\n",
    "train['A'] = train['A'].apply(lambda text: TextChunk(text).to_vector())\n",
    "train['B'] = train['B'].apply(lambda text: TextChunk(text).to_vector())\n",
    "\n",
    "train.to_csv('../data/500_ngrams/train_features.csv')\n",
    "\n",
    "val['A'] = val['A'].apply(lambda text: TextChunk(text).to_vector())\n",
    "val['B'] = val['B'].apply(lambda text: TextChunk(text).to_vector())\n",
    "\n",
    "val.to_csv('../data/500_ngrams/validation_features.csv')"
   ]
  }
 ],
 "metadata": {
  "kernelspec": {
   "display_name": "Python 3",
   "language": "python",
   "name": "python3"
  },
  "language_info": {
   "codemirror_mode": {
    "name": "ipython",
    "version": 3
   },
   "file_extension": ".py",
   "mimetype": "text/x-python",
   "name": "python",
   "nbconvert_exporter": "python",
   "pygments_lexer": "ipython3",
   "version": "3.6.1"
  }
 },
 "nbformat": 4,
 "nbformat_minor": 2
}
