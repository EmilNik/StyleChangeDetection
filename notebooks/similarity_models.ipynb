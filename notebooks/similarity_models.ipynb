{
 "cells": [
  {
   "cell_type": "markdown",
   "metadata": {},
   "source": [
    "Import modules"
   ]
  },
  {
   "cell_type": "code",
   "execution_count": 6,
   "metadata": {
    "collapsed": true
   },
   "outputs": [],
   "source": [
    "import numpy as np\n",
    "import pandas as pd\n",
    "from scipy.spatial.distance import cosine, braycurtis, canberra, cityblock, chebyshev, minkowski\n",
    "from sklearn.linear_model import LogisticRegression"
   ]
  },
  {
   "cell_type": "markdown",
   "metadata": {},
   "source": [
    "Import train / val as vectors"
   ]
  },
  {
   "cell_type": "code",
   "execution_count": 3,
   "metadata": {
    "collapsed": true
   },
   "outputs": [],
   "source": [
    "train = pd.read_csv('../data/train_features_scaled_standard.csv', index_col=0)\n",
    "val = pd.read_csv('../data/validation_features_scaled_standard.csv', index_col=0)"
   ]
  },
  {
   "cell_type": "code",
   "execution_count": 33,
   "metadata": {
    "collapsed": true
   },
   "outputs": [],
   "source": [
    "train_minmax = pd.read_csv('../data/train_features_scaled_minmax.csv', index_col=0)\n",
    "val_minmax = pd.read_csv('../data/validation_features_scaled_minmax.csv', index_col=0)"
   ]
  },
  {
   "cell_type": "code",
   "execution_count": 4,
   "metadata": {
    "collapsed": true
   },
   "outputs": [],
   "source": [
    "number_of_features = int((train.shape[1] - 1) / 2)\n",
    "assert number_of_features == 938"
   ]
  },
  {
   "cell_type": "code",
   "execution_count": 5,
   "metadata": {},
   "outputs": [],
   "source": [
    "features = pd.read_csv('../data/features/prunned_RF_scores.csv', index_col=0)\n",
    "assert features.shape[0] == 938"
   ]
  },
  {
   "cell_type": "markdown",
   "metadata": {},
   "source": [
    "Define similarity/distance measures"
   ]
  },
  {
   "cell_type": "code",
   "execution_count": 7,
   "metadata": {
    "collapsed": true
   },
   "outputs": [],
   "source": [
    "def minmax(a, b):\n",
    "    return sum(np.minimum(a, b)) / sum(np.maximum(a, b))\n",
    "\n",
    "def similarities(vectors, features):\n",
    "    a = [vectors['A_{}'.format(i)] for i in features]\n",
    "    b = [vectors['B_{}'.format(i)] for i in features]\n",
    "    \n",
    "    return (minmax(a,b),\n",
    "            cosine(a, b),\n",
    "            braycurtis(a, b),\n",
    "            canberra(a, b),\n",
    "            cityblock(a, b))"
   ]
  },
  {
   "cell_type": "markdown",
   "metadata": {},
   "source": [
    "## all similarity measures, all features, no weights, standard scaling"
   ]
  },
  {
   "cell_type": "code",
   "execution_count": 9,
   "metadata": {},
   "outputs": [],
   "source": [
    "best_features = features.index\n",
    "similarity_measures = ['minmax_similarity', 'cosine_distance', 'braycurtis_distance',\n",
    "                               'canberra_distance', 'cityblock_distance']\n",
    "\n",
    "# computing train similarity measures\n",
    "train_similarities = train.apply(lambda vectors: similarities(vectors, best_features), axis=1).apply(pd.Series)\n",
    "train_similarities.columns = similarity_measures\n",
    "train_similarities['different_author'] = train['different_author']\n",
    "\n",
    "# computing val similarity measures\n",
    "val_similarities = val.apply(lambda vectors: similarities(vectors, best_features), axis=1).apply(pd.Series)\n",
    "val_similarities.columns = similarity_measures\n",
    "val_similarities['different_author'] = val['different_author']"
   ]
  },
  {
   "cell_type": "code",
   "execution_count": 10,
   "metadata": {},
   "outputs": [
    {
     "data": {
      "text/html": [
       "<div>\n",
       "<style scoped>\n",
       "    .dataframe tbody tr th:only-of-type {\n",
       "        vertical-align: middle;\n",
       "    }\n",
       "\n",
       "    .dataframe tbody tr th {\n",
       "        vertical-align: top;\n",
       "    }\n",
       "\n",
       "    .dataframe thead th {\n",
       "        text-align: right;\n",
       "    }\n",
       "</style>\n",
       "<table border=\"1\" class=\"dataframe\">\n",
       "  <thead>\n",
       "    <tr style=\"text-align: right;\">\n",
       "      <th></th>\n",
       "      <th>minmax_similarity</th>\n",
       "      <th>cosine_distance</th>\n",
       "      <th>braycurtis_distance</th>\n",
       "      <th>canberra_distance</th>\n",
       "      <th>cityblock_distance</th>\n",
       "      <th>different_author</th>\n",
       "    </tr>\n",
       "  </thead>\n",
       "  <tbody>\n",
       "    <tr>\n",
       "      <th>0</th>\n",
       "      <td>-1.055474</td>\n",
       "      <td>0.912823</td>\n",
       "      <td>0.716960</td>\n",
       "      <td>398.480153</td>\n",
       "      <td>605.604589</td>\n",
       "      <td>True</td>\n",
       "    </tr>\n",
       "    <tr>\n",
       "      <th>1</th>\n",
       "      <td>-1.053584</td>\n",
       "      <td>0.916162</td>\n",
       "      <td>0.721877</td>\n",
       "      <td>400.251424</td>\n",
       "      <td>608.193625</td>\n",
       "      <td>True</td>\n",
       "    </tr>\n",
       "    <tr>\n",
       "      <th>2</th>\n",
       "      <td>-1.205837</td>\n",
       "      <td>0.937646</td>\n",
       "      <td>0.647488</td>\n",
       "      <td>289.809889</td>\n",
       "      <td>619.982495</td>\n",
       "      <td>True</td>\n",
       "    </tr>\n",
       "    <tr>\n",
       "      <th>3</th>\n",
       "      <td>-1.049284</td>\n",
       "      <td>0.763965</td>\n",
       "      <td>0.597759</td>\n",
       "      <td>326.068801</td>\n",
       "      <td>566.108841</td>\n",
       "      <td>False</td>\n",
       "    </tr>\n",
       "    <tr>\n",
       "      <th>4</th>\n",
       "      <td>-0.714360</td>\n",
       "      <td>0.733612</td>\n",
       "      <td>0.650287</td>\n",
       "      <td>393.313379</td>\n",
       "      <td>560.358946</td>\n",
       "      <td>False</td>\n",
       "    </tr>\n",
       "  </tbody>\n",
       "</table>\n",
       "</div>"
      ],
      "text/plain": [
       "   minmax_similarity  cosine_distance  braycurtis_distance  canberra_distance  \\\n",
       "0          -1.055474         0.912823             0.716960         398.480153   \n",
       "1          -1.053584         0.916162             0.721877         400.251424   \n",
       "2          -1.205837         0.937646             0.647488         289.809889   \n",
       "3          -1.049284         0.763965             0.597759         326.068801   \n",
       "4          -0.714360         0.733612             0.650287         393.313379   \n",
       "\n",
       "   cityblock_distance  different_author  \n",
       "0          605.604589              True  \n",
       "1          608.193625              True  \n",
       "2          619.982495              True  \n",
       "3          566.108841             False  \n",
       "4          560.358946             False  "
      ]
     },
     "execution_count": 10,
     "metadata": {},
     "output_type": "execute_result"
    }
   ],
   "source": [
    "train_similarities.head()"
   ]
  },
  {
   "cell_type": "code",
   "execution_count": 11,
   "metadata": {
    "collapsed": true
   },
   "outputs": [],
   "source": [
    "t_x = train_similarities[similarity_measures]\n",
    "t_y = train_similarities['different_author']\n",
    "v_x = val_similarities[similarity_measures]\n",
    "v_y = val_similarities['different_author']"
   ]
  },
  {
   "cell_type": "code",
   "execution_count": 12,
   "metadata": {},
   "outputs": [
    {
     "name": "stdout",
     "output_type": "stream",
     "text": [
      "train accuracy:  0.756688113783\n",
      "val accuracy:  0.755060034305\n"
     ]
    }
   ],
   "source": [
    "model = LogisticRegression()\n",
    "model.fit(t_x, t_y)\n",
    "\n",
    "print('train accuracy: ', (model.predict(t_x) == t_y).mean())\n",
    "print('val accuracy: ', (model.predict(v_x) == v_y).mean())"
   ]
  },
  {
   "cell_type": "code",
   "execution_count": 13,
   "metadata": {},
   "outputs": [
    {
     "data": {
      "text/plain": [
       "array([[ -8.70601118e-01,   8.02077120e+00,   3.69531677e+00,\n",
       "          1.65867040e-02,  -4.09080968e-03]])"
      ]
     },
     "execution_count": 13,
     "metadata": {},
     "output_type": "execute_result"
    }
   ],
   "source": [
    "model.coef_"
   ]
  },
  {
   "cell_type": "markdown",
   "metadata": {},
   "source": [
    "## all similarity measures, top 250 features, no weights, standard scaling"
   ]
  },
  {
   "cell_type": "code",
   "execution_count": 18,
   "metadata": {
    "collapsed": true
   },
   "outputs": [],
   "source": [
    "best_features = features.index[:250]\n",
    "similarity_measures = ['minmax_similarity', 'cosine_distance', 'braycurtis_distance',\n",
    "                               'canberra_distance', 'cityblock_distance']\n",
    "\n",
    "# computing train similarity measures\n",
    "train_similarities = train.apply(lambda vectors: similarities(vectors, best_features), axis=1).apply(pd.Series)\n",
    "train_similarities.columns = similarity_measures\n",
    "train_similarities['different_author'] = train['different_author']\n",
    "\n",
    "# computing val similarity measures\n",
    "val_similarities = val.apply(lambda vectors: similarities(vectors, best_features), axis=1).apply(pd.Series)\n",
    "val_similarities.columns = similarity_measures\n",
    "val_similarities['different_author'] = val['different_author']"
   ]
  },
  {
   "cell_type": "code",
   "execution_count": 19,
   "metadata": {},
   "outputs": [
    {
     "data": {
      "text/html": [
       "<div>\n",
       "<style scoped>\n",
       "    .dataframe tbody tr th:only-of-type {\n",
       "        vertical-align: middle;\n",
       "    }\n",
       "\n",
       "    .dataframe tbody tr th {\n",
       "        vertical-align: top;\n",
       "    }\n",
       "\n",
       "    .dataframe thead th {\n",
       "        text-align: right;\n",
       "    }\n",
       "</style>\n",
       "<table border=\"1\" class=\"dataframe\">\n",
       "  <thead>\n",
       "    <tr style=\"text-align: right;\">\n",
       "      <th></th>\n",
       "      <th>minmax_similarity</th>\n",
       "      <th>cosine_distance</th>\n",
       "      <th>braycurtis_distance</th>\n",
       "      <th>canberra_distance</th>\n",
       "      <th>cityblock_distance</th>\n",
       "      <th>different_author</th>\n",
       "    </tr>\n",
       "  </thead>\n",
       "  <tbody>\n",
       "    <tr>\n",
       "      <th>0</th>\n",
       "      <td>-1.009311</td>\n",
       "      <td>0.917542</td>\n",
       "      <td>0.763281</td>\n",
       "      <td>133.515881</td>\n",
       "      <td>193.086606</td>\n",
       "      <td>True</td>\n",
       "    </tr>\n",
       "    <tr>\n",
       "      <th>1</th>\n",
       "      <td>-1.007293</td>\n",
       "      <td>0.926835</td>\n",
       "      <td>0.775934</td>\n",
       "      <td>134.477952</td>\n",
       "      <td>195.210343</td>\n",
       "      <td>True</td>\n",
       "    </tr>\n",
       "    <tr>\n",
       "      <th>2</th>\n",
       "      <td>-1.141144</td>\n",
       "      <td>1.011542</td>\n",
       "      <td>0.739324</td>\n",
       "      <td>103.656973</td>\n",
       "      <td>210.593952</td>\n",
       "      <td>True</td>\n",
       "    </tr>\n",
       "    <tr>\n",
       "      <th>3</th>\n",
       "      <td>-1.202600</td>\n",
       "      <td>0.830810</td>\n",
       "      <td>0.682978</td>\n",
       "      <td>118.203572</td>\n",
       "      <td>187.267711</td>\n",
       "      <td>False</td>\n",
       "    </tr>\n",
       "    <tr>\n",
       "      <th>4</th>\n",
       "      <td>-0.966087</td>\n",
       "      <td>0.845150</td>\n",
       "      <td>0.739493</td>\n",
       "      <td>131.710383</td>\n",
       "      <td>175.077734</td>\n",
       "      <td>False</td>\n",
       "    </tr>\n",
       "  </tbody>\n",
       "</table>\n",
       "</div>"
      ],
      "text/plain": [
       "   minmax_similarity  cosine_distance  braycurtis_distance  canberra_distance  \\\n",
       "0          -1.009311         0.917542             0.763281         133.515881   \n",
       "1          -1.007293         0.926835             0.775934         134.477952   \n",
       "2          -1.141144         1.011542             0.739324         103.656973   \n",
       "3          -1.202600         0.830810             0.682978         118.203572   \n",
       "4          -0.966087         0.845150             0.739493         131.710383   \n",
       "\n",
       "   cityblock_distance  different_author  \n",
       "0          193.086606              True  \n",
       "1          195.210343              True  \n",
       "2          210.593952              True  \n",
       "3          187.267711             False  \n",
       "4          175.077734             False  "
      ]
     },
     "execution_count": 19,
     "metadata": {},
     "output_type": "execute_result"
    }
   ],
   "source": [
    "train_similarities.head()"
   ]
  },
  {
   "cell_type": "code",
   "execution_count": 20,
   "metadata": {
    "collapsed": true
   },
   "outputs": [],
   "source": [
    "t_x = train_similarities[similarity_measures]\n",
    "t_y = train_similarities['different_author']\n",
    "v_x = val_similarities[similarity_measures]\n",
    "v_y = val_similarities['different_author']"
   ]
  },
  {
   "cell_type": "code",
   "execution_count": 21,
   "metadata": {},
   "outputs": [
    {
     "name": "stdout",
     "output_type": "stream",
     "text": [
      "train accuracy:  0.725194717237\n",
      "val accuracy:  0.708061749571\n"
     ]
    }
   ],
   "source": [
    "model = LogisticRegression()\n",
    "model.fit(t_x, t_y)\n",
    "\n",
    "print('train accuracy: ', (model.predict(t_x) == t_y).mean())\n",
    "print('val accuracy: ', (model.predict(v_x) == v_y).mean())"
   ]
  },
  {
   "cell_type": "code",
   "execution_count": 22,
   "metadata": {},
   "outputs": [
    {
     "data": {
      "text/plain": [
       "array([[-0.11353554,  3.41691025, -0.60498984,  0.05530624,  0.00701974]])"
      ]
     },
     "execution_count": 22,
     "metadata": {},
     "output_type": "execute_result"
    }
   ],
   "source": [
    "model.coef_"
   ]
  },
  {
   "cell_type": "markdown",
   "metadata": {},
   "source": [
    "## all similarity measures, top 50 features, no weights, standard scaling"
   ]
  },
  {
   "cell_type": "code",
   "execution_count": 23,
   "metadata": {
    "collapsed": true
   },
   "outputs": [],
   "source": [
    "best_features = features.index[:50]\n",
    "similarity_measures = ['minmax_similarity', 'cosine_distance', 'braycurtis_distance',\n",
    "                               'canberra_distance', 'cityblock_distance']\n",
    "\n",
    "# computing train similarity measures\n",
    "train_similarities = train.apply(lambda vectors: similarities(vectors, best_features), axis=1).apply(pd.Series)\n",
    "train_similarities.columns = similarity_measures\n",
    "train_similarities['different_author'] = train['different_author']\n",
    "\n",
    "# computing val similarity measures\n",
    "val_similarities = val.apply(lambda vectors: similarities(vectors, best_features), axis=1).apply(pd.Series)\n",
    "val_similarities.columns = similarity_measures\n",
    "val_similarities['different_author'] = val['different_author']"
   ]
  },
  {
   "cell_type": "code",
   "execution_count": 24,
   "metadata": {},
   "outputs": [
    {
     "data": {
      "text/html": [
       "<div>\n",
       "<style scoped>\n",
       "    .dataframe tbody tr th:only-of-type {\n",
       "        vertical-align: middle;\n",
       "    }\n",
       "\n",
       "    .dataframe tbody tr th {\n",
       "        vertical-align: top;\n",
       "    }\n",
       "\n",
       "    .dataframe thead th {\n",
       "        text-align: right;\n",
       "    }\n",
       "</style>\n",
       "<table border=\"1\" class=\"dataframe\">\n",
       "  <thead>\n",
       "    <tr style=\"text-align: right;\">\n",
       "      <th></th>\n",
       "      <th>minmax_similarity</th>\n",
       "      <th>cosine_distance</th>\n",
       "      <th>braycurtis_distance</th>\n",
       "      <th>canberra_distance</th>\n",
       "      <th>cityblock_distance</th>\n",
       "      <th>different_author</th>\n",
       "    </tr>\n",
       "  </thead>\n",
       "  <tbody>\n",
       "    <tr>\n",
       "      <th>0</th>\n",
       "      <td>-1.535213</td>\n",
       "      <td>0.817837</td>\n",
       "      <td>0.767573</td>\n",
       "      <td>31.320675</td>\n",
       "      <td>38.099962</td>\n",
       "      <td>True</td>\n",
       "    </tr>\n",
       "    <tr>\n",
       "      <th>1</th>\n",
       "      <td>-1.506314</td>\n",
       "      <td>0.862629</td>\n",
       "      <td>0.826922</td>\n",
       "      <td>32.111646</td>\n",
       "      <td>40.167714</td>\n",
       "      <td>True</td>\n",
       "    </tr>\n",
       "    <tr>\n",
       "      <th>2</th>\n",
       "      <td>-3.830221</td>\n",
       "      <td>0.902731</td>\n",
       "      <td>0.688450</td>\n",
       "      <td>22.320092</td>\n",
       "      <td>34.840475</td>\n",
       "      <td>True</td>\n",
       "    </tr>\n",
       "    <tr>\n",
       "      <th>3</th>\n",
       "      <td>-2.149088</td>\n",
       "      <td>0.724622</td>\n",
       "      <td>0.546480</td>\n",
       "      <td>23.526565</td>\n",
       "      <td>31.120812</td>\n",
       "      <td>False</td>\n",
       "    </tr>\n",
       "    <tr>\n",
       "      <th>4</th>\n",
       "      <td>-0.765444</td>\n",
       "      <td>0.789979</td>\n",
       "      <td>0.727770</td>\n",
       "      <td>30.466596</td>\n",
       "      <td>41.722644</td>\n",
       "      <td>False</td>\n",
       "    </tr>\n",
       "  </tbody>\n",
       "</table>\n",
       "</div>"
      ],
      "text/plain": [
       "   minmax_similarity  cosine_distance  braycurtis_distance  canberra_distance  \\\n",
       "0          -1.535213         0.817837             0.767573          31.320675   \n",
       "1          -1.506314         0.862629             0.826922          32.111646   \n",
       "2          -3.830221         0.902731             0.688450          22.320092   \n",
       "3          -2.149088         0.724622             0.546480          23.526565   \n",
       "4          -0.765444         0.789979             0.727770          30.466596   \n",
       "\n",
       "   cityblock_distance  different_author  \n",
       "0           38.099962              True  \n",
       "1           40.167714              True  \n",
       "2           34.840475              True  \n",
       "3           31.120812             False  \n",
       "4           41.722644             False  "
      ]
     },
     "execution_count": 24,
     "metadata": {},
     "output_type": "execute_result"
    }
   ],
   "source": [
    "train_similarities.head()"
   ]
  },
  {
   "cell_type": "code",
   "execution_count": 25,
   "metadata": {
    "collapsed": true
   },
   "outputs": [],
   "source": [
    "t_x = train_similarities[similarity_measures]\n",
    "t_y = train_similarities['different_author']\n",
    "v_x = val_similarities[similarity_measures]\n",
    "v_y = val_similarities['different_author']"
   ]
  },
  {
   "cell_type": "code",
   "execution_count": 26,
   "metadata": {},
   "outputs": [
    {
     "name": "stdout",
     "output_type": "stream",
     "text": [
      "train accuracy:  0.698442262106\n",
      "val accuracy:  0.678559176672\n"
     ]
    }
   ],
   "source": [
    "model = LogisticRegression()\n",
    "model.fit(t_x, t_y)\n",
    "\n",
    "print('train accuracy: ', (model.predict(t_x) == t_y).mean())\n",
    "print('val accuracy: ', (model.predict(v_x) == v_y).mean())"
   ]
  },
  {
   "cell_type": "code",
   "execution_count": 27,
   "metadata": {},
   "outputs": [
    {
     "data": {
      "text/plain": [
       "array([[ -2.16018374e-04,   1.87326891e+00,  -1.93321498e+00,\n",
       "          2.25325872e-01,  -6.50850105e-03]])"
      ]
     },
     "execution_count": 27,
     "metadata": {},
     "output_type": "execute_result"
    }
   ],
   "source": [
    "model.coef_"
   ]
  },
  {
   "cell_type": "markdown",
   "metadata": {},
   "source": [
    "## all similarity measures, top 500 features, no weights, standard scaling"
   ]
  },
  {
   "cell_type": "code",
   "execution_count": 28,
   "metadata": {
    "collapsed": true
   },
   "outputs": [],
   "source": [
    "best_features = features.index[:500]\n",
    "similarity_measures = ['minmax_similarity', 'cosine_distance', 'braycurtis_distance',\n",
    "                               'canberra_distance', 'cityblock_distance']\n",
    "\n",
    "# computing train similarity measures\n",
    "train_similarities = train.apply(lambda vectors: similarities(vectors, best_features), axis=1).apply(pd.Series)\n",
    "train_similarities.columns = similarity_measures\n",
    "train_similarities['different_author'] = train['different_author']\n",
    "\n",
    "# computing val similarity measures\n",
    "val_similarities = val.apply(lambda vectors: similarities(vectors, best_features), axis=1).apply(pd.Series)\n",
    "val_similarities.columns = similarity_measures\n",
    "val_similarities['different_author'] = val['different_author']"
   ]
  },
  {
   "cell_type": "code",
   "execution_count": 29,
   "metadata": {},
   "outputs": [
    {
     "data": {
      "text/html": [
       "<div>\n",
       "<style scoped>\n",
       "    .dataframe tbody tr th:only-of-type {\n",
       "        vertical-align: middle;\n",
       "    }\n",
       "\n",
       "    .dataframe tbody tr th {\n",
       "        vertical-align: top;\n",
       "    }\n",
       "\n",
       "    .dataframe thead th {\n",
       "        text-align: right;\n",
       "    }\n",
       "</style>\n",
       "<table border=\"1\" class=\"dataframe\">\n",
       "  <thead>\n",
       "    <tr style=\"text-align: right;\">\n",
       "      <th></th>\n",
       "      <th>minmax_similarity</th>\n",
       "      <th>cosine_distance</th>\n",
       "      <th>braycurtis_distance</th>\n",
       "      <th>canberra_distance</th>\n",
       "      <th>cityblock_distance</th>\n",
       "      <th>different_author</th>\n",
       "    </tr>\n",
       "  </thead>\n",
       "  <tbody>\n",
       "    <tr>\n",
       "      <th>0</th>\n",
       "      <td>-1.172092</td>\n",
       "      <td>0.863151</td>\n",
       "      <td>0.705553</td>\n",
       "      <td>220.744873</td>\n",
       "      <td>324.355065</td>\n",
       "      <td>True</td>\n",
       "    </tr>\n",
       "    <tr>\n",
       "      <th>1</th>\n",
       "      <td>-1.170327</td>\n",
       "      <td>0.867921</td>\n",
       "      <td>0.712047</td>\n",
       "      <td>221.701823</td>\n",
       "      <td>326.411914</td>\n",
       "      <td>True</td>\n",
       "    </tr>\n",
       "    <tr>\n",
       "      <th>2</th>\n",
       "      <td>-1.219706</td>\n",
       "      <td>0.941539</td>\n",
       "      <td>0.663145</td>\n",
       "      <td>165.698371</td>\n",
       "      <td>352.899886</td>\n",
       "      <td>True</td>\n",
       "    </tr>\n",
       "    <tr>\n",
       "      <th>3</th>\n",
       "      <td>-0.856537</td>\n",
       "      <td>0.780790</td>\n",
       "      <td>0.651156</td>\n",
       "      <td>197.052317</td>\n",
       "      <td>350.026051</td>\n",
       "      <td>False</td>\n",
       "    </tr>\n",
       "    <tr>\n",
       "      <th>4</th>\n",
       "      <td>-0.680357</td>\n",
       "      <td>0.750625</td>\n",
       "      <td>0.677364</td>\n",
       "      <td>227.910023</td>\n",
       "      <td>320.456410</td>\n",
       "      <td>False</td>\n",
       "    </tr>\n",
       "  </tbody>\n",
       "</table>\n",
       "</div>"
      ],
      "text/plain": [
       "   minmax_similarity  cosine_distance  braycurtis_distance  canberra_distance  \\\n",
       "0          -1.172092         0.863151             0.705553         220.744873   \n",
       "1          -1.170327         0.867921             0.712047         221.701823   \n",
       "2          -1.219706         0.941539             0.663145         165.698371   \n",
       "3          -0.856537         0.780790             0.651156         197.052317   \n",
       "4          -0.680357         0.750625             0.677364         227.910023   \n",
       "\n",
       "   cityblock_distance  different_author  \n",
       "0          324.355065              True  \n",
       "1          326.411914              True  \n",
       "2          352.899886              True  \n",
       "3          350.026051             False  \n",
       "4          320.456410             False  "
      ]
     },
     "execution_count": 29,
     "metadata": {},
     "output_type": "execute_result"
    }
   ],
   "source": [
    "train_similarities.head()"
   ]
  },
  {
   "cell_type": "code",
   "execution_count": 30,
   "metadata": {
    "collapsed": true
   },
   "outputs": [],
   "source": [
    "t_x = train_similarities[similarity_measures]\n",
    "t_y = train_similarities['different_author']\n",
    "v_x = val_similarities[similarity_measures]\n",
    "v_y = val_similarities['different_author']"
   ]
  },
  {
   "cell_type": "code",
   "execution_count": 31,
   "metadata": {},
   "outputs": [
    {
     "name": "stdout",
     "output_type": "stream",
     "text": [
      "train accuracy:  0.745174398916\n",
      "val accuracy:  0.741680960549\n"
     ]
    }
   ],
   "source": [
    "model = LogisticRegression()\n",
    "model.fit(t_x, t_y)\n",
    "\n",
    "print('train accuracy: ', (model.predict(t_x) == t_y).mean())\n",
    "print('val accuracy: ', (model.predict(v_x) == v_y).mean())"
   ]
  },
  {
   "cell_type": "code",
   "execution_count": 32,
   "metadata": {},
   "outputs": [
    {
     "data": {
      "text/plain": [
       "array([[ -4.85691250e-01,   4.74615266e+00,   2.85469318e+00,\n",
       "          2.78374324e-02,   1.43687516e-03]])"
      ]
     },
     "execution_count": 32,
     "metadata": {},
     "output_type": "execute_result"
    }
   ],
   "source": [
    "model.coef_"
   ]
  },
  {
   "cell_type": "markdown",
   "metadata": {},
   "source": [
    "## all similarity measures, all features, no weights, minmax scaling"
   ]
  },
  {
   "cell_type": "code",
   "execution_count": 36,
   "metadata": {
    "collapsed": true
   },
   "outputs": [],
   "source": [
    "best_features = features.index\n",
    "similarity_measures = ['minmax_similarity', 'cosine_distance', 'braycurtis_distance',\n",
    "                               'canberra_distance', 'cityblock_distance']\n",
    "\n",
    "# computing train similarity measures\n",
    "train_similarities = train_minmax.apply(lambda vectors: similarities(vectors, best_features), axis=1).apply(pd.Series)\n",
    "train_similarities.columns = similarity_measures\n",
    "train_similarities['different_author'] = train_minmax['different_author']\n",
    "\n",
    "# computing val similarity measures\n",
    "val_similarities = val_minmax.apply(lambda vectors: similarities(vectors, best_features), axis=1).apply(pd.Series)\n",
    "val_similarities.columns = similarity_measures\n",
    "val_similarities['different_author'] = val_minmax['different_author']"
   ]
  },
  {
   "cell_type": "code",
   "execution_count": 37,
   "metadata": {},
   "outputs": [
    {
     "data": {
      "text/html": [
       "<div>\n",
       "<style scoped>\n",
       "    .dataframe tbody tr th:only-of-type {\n",
       "        vertical-align: middle;\n",
       "    }\n",
       "\n",
       "    .dataframe tbody tr th {\n",
       "        vertical-align: top;\n",
       "    }\n",
       "\n",
       "    .dataframe thead th {\n",
       "        text-align: right;\n",
       "    }\n",
       "</style>\n",
       "<table border=\"1\" class=\"dataframe\">\n",
       "  <thead>\n",
       "    <tr style=\"text-align: right;\">\n",
       "      <th></th>\n",
       "      <th>minmax_similarity</th>\n",
       "      <th>cosine_distance</th>\n",
       "      <th>braycurtis_distance</th>\n",
       "      <th>canberra_distance</th>\n",
       "      <th>cityblock_distance</th>\n",
       "      <th>different_author</th>\n",
       "    </tr>\n",
       "  </thead>\n",
       "  <tbody>\n",
       "    <tr>\n",
       "      <th>0</th>\n",
       "      <td>0.323870</td>\n",
       "      <td>0.370910</td>\n",
       "      <td>0.510722</td>\n",
       "      <td>350.857241</td>\n",
       "      <td>60.335068</td>\n",
       "      <td>True</td>\n",
       "    </tr>\n",
       "    <tr>\n",
       "      <th>1</th>\n",
       "      <td>0.321832</td>\n",
       "      <td>0.372340</td>\n",
       "      <td>0.513051</td>\n",
       "      <td>351.620079</td>\n",
       "      <td>60.596062</td>\n",
       "      <td>True</td>\n",
       "    </tr>\n",
       "    <tr>\n",
       "      <th>2</th>\n",
       "      <td>0.291532</td>\n",
       "      <td>0.434310</td>\n",
       "      <td>0.548549</td>\n",
       "      <td>244.395348</td>\n",
       "      <td>62.421801</td>\n",
       "      <td>True</td>\n",
       "    </tr>\n",
       "    <tr>\n",
       "      <th>3</th>\n",
       "      <td>0.351154</td>\n",
       "      <td>0.325159</td>\n",
       "      <td>0.480216</td>\n",
       "      <td>288.902834</td>\n",
       "      <td>56.245090</td>\n",
       "      <td>False</td>\n",
       "    </tr>\n",
       "    <tr>\n",
       "      <th>4</th>\n",
       "      <td>0.406145</td>\n",
       "      <td>0.230983</td>\n",
       "      <td>0.422329</td>\n",
       "      <td>343.745518</td>\n",
       "      <td>54.321482</td>\n",
       "      <td>False</td>\n",
       "    </tr>\n",
       "  </tbody>\n",
       "</table>\n",
       "</div>"
      ],
      "text/plain": [
       "   minmax_similarity  cosine_distance  braycurtis_distance  canberra_distance  \\\n",
       "0           0.323870         0.370910             0.510722         350.857241   \n",
       "1           0.321832         0.372340             0.513051         351.620079   \n",
       "2           0.291532         0.434310             0.548549         244.395348   \n",
       "3           0.351154         0.325159             0.480216         288.902834   \n",
       "4           0.406145         0.230983             0.422329         343.745518   \n",
       "\n",
       "   cityblock_distance  different_author  \n",
       "0           60.335068              True  \n",
       "1           60.596062              True  \n",
       "2           62.421801              True  \n",
       "3           56.245090             False  \n",
       "4           54.321482             False  "
      ]
     },
     "execution_count": 37,
     "metadata": {},
     "output_type": "execute_result"
    }
   ],
   "source": [
    "train_similarities.head()"
   ]
  },
  {
   "cell_type": "code",
   "execution_count": 38,
   "metadata": {
    "collapsed": true
   },
   "outputs": [],
   "source": [
    "t_x = train_similarities[similarity_measures]\n",
    "t_y = train_similarities['different_author']\n",
    "v_x = val_similarities[similarity_measures]\n",
    "v_y = val_similarities['different_author']"
   ]
  },
  {
   "cell_type": "code",
   "execution_count": 39,
   "metadata": {},
   "outputs": [
    {
     "name": "stdout",
     "output_type": "stream",
     "text": [
      "train accuracy:  0.755164239756\n",
      "val accuracy:  0.755060034305\n"
     ]
    }
   ],
   "source": [
    "model = LogisticRegression()\n",
    "model.fit(t_x, t_y)\n",
    "\n",
    "print('train accuracy: ', (model.predict(t_x) == t_y).mean())\n",
    "print('val accuracy: ', (model.predict(v_x) == v_y).mean())"
   ]
  },
  {
   "cell_type": "code",
   "execution_count": 40,
   "metadata": {},
   "outputs": [
    {
     "data": {
      "text/plain": [
       "array([[-9.97205012,  8.58506587,  5.33226986,  0.03324554, -0.09349579]])"
      ]
     },
     "execution_count": 40,
     "metadata": {},
     "output_type": "execute_result"
    }
   ],
   "source": [
    "model.coef_"
   ]
  },
  {
   "cell_type": "markdown",
   "metadata": {},
   "source": [
    "## canberra distance, all features, no weights, minmax scaling"
   ]
  },
  {
   "cell_type": "code",
   "execution_count": 41,
   "metadata": {
    "collapsed": true
   },
   "outputs": [],
   "source": [
    "best_features = features.index\n",
    "similarity_measures = ['minmax_similarity', 'cosine_distance', 'braycurtis_distance',\n",
    "                               'canberra_distance', 'cityblock_distance']\n",
    "\n",
    "# computing train similarity measures\n",
    "train_similarities = train_minmax.apply(lambda vectors: similarities(vectors, best_features), axis=1).apply(pd.Series)\n",
    "train_similarities.columns = similarity_measures\n",
    "train_similarities['different_author'] = train_minmax['different_author']\n",
    "\n",
    "# computing val similarity measures\n",
    "val_similarities = val_minmax.apply(lambda vectors: similarities(vectors, best_features), axis=1).apply(pd.Series)\n",
    "val_similarities.columns = similarity_measures\n",
    "val_similarities['different_author'] = val_minmax['different_author']"
   ]
  },
  {
   "cell_type": "code",
   "execution_count": 42,
   "metadata": {},
   "outputs": [
    {
     "data": {
      "text/html": [
       "<div>\n",
       "<style scoped>\n",
       "    .dataframe tbody tr th:only-of-type {\n",
       "        vertical-align: middle;\n",
       "    }\n",
       "\n",
       "    .dataframe tbody tr th {\n",
       "        vertical-align: top;\n",
       "    }\n",
       "\n",
       "    .dataframe thead th {\n",
       "        text-align: right;\n",
       "    }\n",
       "</style>\n",
       "<table border=\"1\" class=\"dataframe\">\n",
       "  <thead>\n",
       "    <tr style=\"text-align: right;\">\n",
       "      <th></th>\n",
       "      <th>minmax_similarity</th>\n",
       "      <th>cosine_distance</th>\n",
       "      <th>braycurtis_distance</th>\n",
       "      <th>canberra_distance</th>\n",
       "      <th>cityblock_distance</th>\n",
       "      <th>different_author</th>\n",
       "    </tr>\n",
       "  </thead>\n",
       "  <tbody>\n",
       "    <tr>\n",
       "      <th>0</th>\n",
       "      <td>0.323870</td>\n",
       "      <td>0.370910</td>\n",
       "      <td>0.510722</td>\n",
       "      <td>350.857241</td>\n",
       "      <td>60.335068</td>\n",
       "      <td>True</td>\n",
       "    </tr>\n",
       "    <tr>\n",
       "      <th>1</th>\n",
       "      <td>0.321832</td>\n",
       "      <td>0.372340</td>\n",
       "      <td>0.513051</td>\n",
       "      <td>351.620079</td>\n",
       "      <td>60.596062</td>\n",
       "      <td>True</td>\n",
       "    </tr>\n",
       "    <tr>\n",
       "      <th>2</th>\n",
       "      <td>0.291532</td>\n",
       "      <td>0.434310</td>\n",
       "      <td>0.548549</td>\n",
       "      <td>244.395348</td>\n",
       "      <td>62.421801</td>\n",
       "      <td>True</td>\n",
       "    </tr>\n",
       "    <tr>\n",
       "      <th>3</th>\n",
       "      <td>0.351154</td>\n",
       "      <td>0.325159</td>\n",
       "      <td>0.480216</td>\n",
       "      <td>288.902834</td>\n",
       "      <td>56.245090</td>\n",
       "      <td>False</td>\n",
       "    </tr>\n",
       "    <tr>\n",
       "      <th>4</th>\n",
       "      <td>0.406145</td>\n",
       "      <td>0.230983</td>\n",
       "      <td>0.422329</td>\n",
       "      <td>343.745518</td>\n",
       "      <td>54.321482</td>\n",
       "      <td>False</td>\n",
       "    </tr>\n",
       "  </tbody>\n",
       "</table>\n",
       "</div>"
      ],
      "text/plain": [
       "   minmax_similarity  cosine_distance  braycurtis_distance  canberra_distance  \\\n",
       "0           0.323870         0.370910             0.510722         350.857241   \n",
       "1           0.321832         0.372340             0.513051         351.620079   \n",
       "2           0.291532         0.434310             0.548549         244.395348   \n",
       "3           0.351154         0.325159             0.480216         288.902834   \n",
       "4           0.406145         0.230983             0.422329         343.745518   \n",
       "\n",
       "   cityblock_distance  different_author  \n",
       "0           60.335068              True  \n",
       "1           60.596062              True  \n",
       "2           62.421801              True  \n",
       "3           56.245090             False  \n",
       "4           54.321482             False  "
      ]
     },
     "execution_count": 42,
     "metadata": {},
     "output_type": "execute_result"
    }
   ],
   "source": [
    "train_similarities.head()"
   ]
  },
  {
   "cell_type": "code",
   "execution_count": 43,
   "metadata": {
    "collapsed": true
   },
   "outputs": [],
   "source": [
    "t_x = train_similarities['canberra_distance']\n",
    "t_y = train_similarities['different_author']\n",
    "v_x = val_similarities['canberra_distance']\n",
    "v_y = val_similarities['different_author']"
   ]
  },
  {
   "cell_type": "code",
   "execution_count": 47,
   "metadata": {},
   "outputs": [
    {
     "name": "stdout",
     "output_type": "stream",
     "text": [
      "train accuracy:  0.652726041314\n",
      "val accuracy:  0.681646655232\n"
     ]
    }
   ],
   "source": [
    "model = LogisticRegression()\n",
    "model.fit(t_x.values.reshape(-1, 1), t_y)\n",
    "\n",
    "print('train accuracy: ', (model.predict(t_x.values.reshape(-1, 1)) == t_y).mean())\n",
    "print('val accuracy: ', (model.predict(v_x.values.reshape(-1, 1)) == v_y).mean())"
   ]
  },
  {
   "cell_type": "code",
   "execution_count": 48,
   "metadata": {},
   "outputs": [
    {
     "data": {
      "text/plain": [
       "array([[ 0.01961463]])"
      ]
     },
     "execution_count": 48,
     "metadata": {},
     "output_type": "execute_result"
    }
   ],
   "source": [
    "model.coef_"
   ]
  },
  {
   "cell_type": "markdown",
   "metadata": {},
   "source": [
    "## canberra distance, all features, no weights, standard scaling"
   ]
  },
  {
   "cell_type": "code",
   "execution_count": 49,
   "metadata": {
    "collapsed": true
   },
   "outputs": [],
   "source": [
    "best_features = features.index\n",
    "similarity_measures = ['minmax_similarity', 'cosine_distance', 'braycurtis_distance',\n",
    "                               'canberra_distance', 'cityblock_distance']\n",
    "\n",
    "# computing train similarity measures\n",
    "train_similarities = train.apply(lambda vectors: similarities(vectors, best_features), axis=1).apply(pd.Series)\n",
    "train_similarities.columns = similarity_measures\n",
    "train_similarities['different_author'] = train['different_author']\n",
    "\n",
    "# computing val similarity measures\n",
    "val_similarities = val.apply(lambda vectors: similarities(vectors, best_features), axis=1).apply(pd.Series)\n",
    "val_similarities.columns = similarity_measures\n",
    "val_similarities['different_author'] = val['different_author']"
   ]
  },
  {
   "cell_type": "code",
   "execution_count": 50,
   "metadata": {},
   "outputs": [
    {
     "data": {
      "text/html": [
       "<div>\n",
       "<style scoped>\n",
       "    .dataframe tbody tr th:only-of-type {\n",
       "        vertical-align: middle;\n",
       "    }\n",
       "\n",
       "    .dataframe tbody tr th {\n",
       "        vertical-align: top;\n",
       "    }\n",
       "\n",
       "    .dataframe thead th {\n",
       "        text-align: right;\n",
       "    }\n",
       "</style>\n",
       "<table border=\"1\" class=\"dataframe\">\n",
       "  <thead>\n",
       "    <tr style=\"text-align: right;\">\n",
       "      <th></th>\n",
       "      <th>minmax_similarity</th>\n",
       "      <th>cosine_distance</th>\n",
       "      <th>braycurtis_distance</th>\n",
       "      <th>canberra_distance</th>\n",
       "      <th>cityblock_distance</th>\n",
       "      <th>different_author</th>\n",
       "    </tr>\n",
       "  </thead>\n",
       "  <tbody>\n",
       "    <tr>\n",
       "      <th>0</th>\n",
       "      <td>-1.055474</td>\n",
       "      <td>0.912823</td>\n",
       "      <td>0.716960</td>\n",
       "      <td>398.480153</td>\n",
       "      <td>605.604589</td>\n",
       "      <td>True</td>\n",
       "    </tr>\n",
       "    <tr>\n",
       "      <th>1</th>\n",
       "      <td>-1.053584</td>\n",
       "      <td>0.916162</td>\n",
       "      <td>0.721877</td>\n",
       "      <td>400.251424</td>\n",
       "      <td>608.193625</td>\n",
       "      <td>True</td>\n",
       "    </tr>\n",
       "    <tr>\n",
       "      <th>2</th>\n",
       "      <td>-1.205837</td>\n",
       "      <td>0.937646</td>\n",
       "      <td>0.647488</td>\n",
       "      <td>289.809889</td>\n",
       "      <td>619.982495</td>\n",
       "      <td>True</td>\n",
       "    </tr>\n",
       "    <tr>\n",
       "      <th>3</th>\n",
       "      <td>-1.049284</td>\n",
       "      <td>0.763965</td>\n",
       "      <td>0.597759</td>\n",
       "      <td>326.068801</td>\n",
       "      <td>566.108841</td>\n",
       "      <td>False</td>\n",
       "    </tr>\n",
       "    <tr>\n",
       "      <th>4</th>\n",
       "      <td>-0.714360</td>\n",
       "      <td>0.733612</td>\n",
       "      <td>0.650287</td>\n",
       "      <td>393.313379</td>\n",
       "      <td>560.358946</td>\n",
       "      <td>False</td>\n",
       "    </tr>\n",
       "  </tbody>\n",
       "</table>\n",
       "</div>"
      ],
      "text/plain": [
       "   minmax_similarity  cosine_distance  braycurtis_distance  canberra_distance  \\\n",
       "0          -1.055474         0.912823             0.716960         398.480153   \n",
       "1          -1.053584         0.916162             0.721877         400.251424   \n",
       "2          -1.205837         0.937646             0.647488         289.809889   \n",
       "3          -1.049284         0.763965             0.597759         326.068801   \n",
       "4          -0.714360         0.733612             0.650287         393.313379   \n",
       "\n",
       "   cityblock_distance  different_author  \n",
       "0          605.604589              True  \n",
       "1          608.193625              True  \n",
       "2          619.982495              True  \n",
       "3          566.108841             False  \n",
       "4          560.358946             False  "
      ]
     },
     "execution_count": 50,
     "metadata": {},
     "output_type": "execute_result"
    }
   ],
   "source": [
    "train_similarities.head()"
   ]
  },
  {
   "cell_type": "code",
   "execution_count": 51,
   "metadata": {
    "collapsed": true
   },
   "outputs": [],
   "source": [
    "t_x = train_similarities['canberra_distance']\n",
    "t_y = train_similarities['different_author']\n",
    "v_x = val_similarities['canberra_distance']\n",
    "v_y = val_similarities['different_author']"
   ]
  },
  {
   "cell_type": "code",
   "execution_count": 52,
   "metadata": {},
   "outputs": [
    {
     "name": "stdout",
     "output_type": "stream",
     "text": [
      "train accuracy:  0.653403318659\n",
      "val accuracy:  0.678216123499\n"
     ]
    }
   ],
   "source": [
    "model = LogisticRegression()\n",
    "model.fit(t_x.values.reshape(-1, 1), t_y)\n",
    "\n",
    "print('train accuracy: ', (model.predict(t_x.values.reshape(-1, 1)) == t_y).mean())\n",
    "print('val accuracy: ', (model.predict(v_x.values.reshape(-1, 1)) == v_y).mean())"
   ]
  },
  {
   "cell_type": "code",
   "execution_count": 53,
   "metadata": {},
   "outputs": [
    {
     "data": {
      "text/plain": [
       "array([[ 0.01657386]])"
      ]
     },
     "execution_count": 53,
     "metadata": {},
     "output_type": "execute_result"
    }
   ],
   "source": [
    "model.coef_"
   ]
  },
  {
   "cell_type": "code",
   "execution_count": null,
   "metadata": {
    "collapsed": true
   },
   "outputs": [],
   "source": []
  }
 ],
 "metadata": {
  "kernelspec": {
   "display_name": "Python 3",
   "language": "python",
   "name": "python3"
  },
  "language_info": {
   "codemirror_mode": {
    "name": "ipython",
    "version": 3
   },
   "file_extension": ".py",
   "mimetype": "text/x-python",
   "name": "python",
   "nbconvert_exporter": "python",
   "pygments_lexer": "ipython3",
   "version": "3.6.1"
  }
 },
 "nbformat": 4,
 "nbformat_minor": 2
}
