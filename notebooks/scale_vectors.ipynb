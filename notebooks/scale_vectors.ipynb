{
 "cells": [
  {
   "cell_type": "markdown",
   "metadata": {},
   "source": [
    "Import modules"
   ]
  },
  {
   "cell_type": "code",
   "execution_count": 1,
   "metadata": {
    "collapsed": true
   },
   "outputs": [],
   "source": [
    "import sys\n",
    "import pandas as pd\n",
    "from sklearn.preprocessing import StandardScaler, MinMaxScaler\n",
    "\n",
    "sys.path.append(\"..\")"
   ]
  },
  {
   "cell_type": "markdown",
   "metadata": {},
   "source": [
    "Load train / val / imposters as vectors"
   ]
  },
  {
   "cell_type": "code",
   "execution_count": 2,
   "metadata": {
    "collapsed": true
   },
   "outputs": [],
   "source": [
    "train = pd.read_csv('../data/train_features.csv', index_col=0)\n",
    "val = pd.read_csv('../data/validation_features.csv', index_col=0)\n",
    "imposters = pd.read_csv('../data/imposters/imposters_subset_features.csv', index_col=0)"
   ]
  },
  {
   "cell_type": "markdown",
   "metadata": {},
   "source": [
    "Split train to A and B vectors"
   ]
  },
  {
   "cell_type": "code",
   "execution_count": 6,
   "metadata": {
    "collapsed": true
   },
   "outputs": [],
   "source": [
    "number_of_features = 938\n",
    "\n",
    "assert train.shape[1] == number_of_features * 2 + 1\n",
    "assert val.shape[1] == number_of_features * 2 + 1\n",
    "assert imposters.shape[1] == number_of_features"
   ]
  },
  {
   "cell_type": "code",
   "execution_count": 9,
   "metadata": {
    "collapsed": true
   },
   "outputs": [],
   "source": [
    "a_columns = ['A_{}'.format(i) for i in range(number_of_features)]\n",
    "b_columns = ['B_{}'.format(i) for i in range(number_of_features)]\n",
    "imposters_columns = ['I_{}'.format(i) for i in range(number_of_features)]\n",
    "\n",
    "train_A = train[a_columns]\n",
    "train_B = train[b_columns]\n",
    "\n",
    "val_A = val[a_columns]\n",
    "val_B = val[b_columns]"
   ]
  },
  {
   "cell_type": "markdown",
   "metadata": {},
   "source": [
    "Fit standard and minmax scaler to train vectors"
   ]
  },
  {
   "cell_type": "code",
   "execution_count": 8,
   "metadata": {},
   "outputs": [
    {
     "data": {
      "text/plain": [
       "MinMaxScaler(copy=True, feature_range=(0, 1))"
      ]
     },
     "execution_count": 8,
     "metadata": {},
     "output_type": "execute_result"
    }
   ],
   "source": [
    "standard_scaler = StandardScaler()\n",
    "min_max_scaler = MinMaxScaler(feature_range=(0, 1))\n",
    "\n",
    "standard_scaler.fit(train_A)\n",
    "min_max_scaler.fit(train_A)"
   ]
  },
  {
   "cell_type": "markdown",
   "metadata": {},
   "source": [
    "Transform train / val / imposters using fitted scalers"
   ]
  },
  {
   "cell_type": "code",
   "execution_count": 10,
   "metadata": {
    "collapsed": true
   },
   "outputs": [],
   "source": [
    "# Standard Scaler\n",
    "\n",
    "train_standard_scaled = pd.concat([pd.DataFrame(standard_scaler.transform(train_A), columns=a_columns),\n",
    "                                   pd.DataFrame(standard_scaler.transform(train_B), columns=b_columns),\n",
    "                                   train['different_author']],\n",
    "                                   axis=1)\n",
    "\n",
    "val_standard_scaled = pd.concat([pd.DataFrame(standard_scaler.transform(val_A), columns=a_columns),\n",
    "                                 pd.DataFrame(standard_scaler.transform(val_B), columns=b_columns),\n",
    "                                 val['different_author']],\n",
    "                                 axis=1)\n",
    "\n",
    "imposters_standard_scaled = pd.DataFrame(standard_scaler.transform(imposters), columns=imposters_columns)\n",
    "\n",
    "\n",
    "# MinMax Scaler\n",
    "\n",
    "train_minmax_scaled = pd.concat([pd.DataFrame(min_max_scaler.transform(train_A), columns=a_columns),\n",
    "                                 pd.DataFrame(min_max_scaler.transform(train_B), columns=b_columns),\n",
    "                                 train['different_author']],\n",
    "                                 axis=1)\n",
    "\n",
    "val_minmax_scaled = pd.concat([pd.DataFrame(min_max_scaler.transform(val_A), columns=a_columns),\n",
    "                               pd.DataFrame(min_max_scaler.transform(val_B), columns=b_columns),\n",
    "                               val['different_author']],\n",
    "                               axis=1)\n",
    "\n",
    "imposters_minmax_scaled = pd.DataFrame(min_max_scaler.transform(imposters), columns=imposters_columns)"
   ]
  },
  {
   "cell_type": "markdown",
   "metadata": {},
   "source": [
    "Write scaled data"
   ]
  },
  {
   "cell_type": "code",
   "execution_count": 11,
   "metadata": {
    "collapsed": true
   },
   "outputs": [],
   "source": [
    "train_standard_scaled.to_csv('../data/train_features_scaled_standard.csv')\n",
    "val_standard_scaled.to_csv('../data/validation_features_scaled_standard.csv')\n",
    "imposters_standard_scaled.to_csv('../data/imposters/imposters_scaled_standard.csv')\n",
    "\n",
    "train_minmax_scaled.to_csv('../data/train_features_scaled_minmax.csv')\n",
    "val_minmax_scaled.to_csv('../data/validation_features_scaled_minmax.csv')\n",
    "imposters_minmax_scaled.to_csv('../data/imposters/imposters_scaled_minmax.csv')"
   ]
  },
  {
   "cell_type": "markdown",
   "metadata": {},
   "source": [
    "Serialize scalers"
   ]
  },
  {
   "cell_type": "code",
   "execution_count": 12,
   "metadata": {
    "collapsed": true
   },
   "outputs": [],
   "source": [
    "import dill\n",
    "\n",
    "with open('../data/standard_scaler.pk', 'wb') as f:\n",
    "    dill.dump(standard_scaler, f)\n",
    "\n",
    "with open('../data/minmax_scaler.pk', 'wb') as f:\n",
    "    dill.dump(min_max_scaler, f)"
   ]
  }
 ],
 "metadata": {
  "kernelspec": {
   "display_name": "Python 3",
   "language": "python",
   "name": "python3"
  },
  "language_info": {
   "codemirror_mode": {
    "name": "ipython",
    "version": 3
   },
   "file_extension": ".py",
   "mimetype": "text/x-python",
   "name": "python",
   "nbconvert_exporter": "python",
   "pygments_lexer": "ipython3",
   "version": "3.6.1"
  }
 },
 "nbformat": 4,
 "nbformat_minor": 2
}
