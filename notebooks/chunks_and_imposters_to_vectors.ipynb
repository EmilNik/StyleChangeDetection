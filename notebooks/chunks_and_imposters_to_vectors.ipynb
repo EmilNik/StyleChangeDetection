{
 "cells": [
  {
   "cell_type": "markdown",
   "metadata": {},
   "source": [
    "Import modules"
   ]
  },
  {
   "cell_type": "code",
   "execution_count": 19,
   "metadata": {},
   "outputs": [],
   "source": [
    "import sys\n",
    "import pandas as pd\n",
    "\n",
    "sys.path.append(\"..\")\n",
    "\n",
    "from src.text_chunk import TextChunk"
   ]
  },
  {
   "cell_type": "markdown",
   "metadata": {},
   "source": [
    "Import data"
   ]
  },
  {
   "cell_type": "code",
   "execution_count": 4,
   "metadata": {
    "collapsed": true
   },
   "outputs": [],
   "source": [
    "train = pd.read_csv('../data/train_chunks.csv', header=None, names=['A','B','different_author'])\n",
    "val = pd.read_csv('../data/validation_chunks.csv', header=None, names=['A','B','different_author'])\n",
    "imposters = pd.read_csv('../data/imposters/imposters.csv', index_col=0)"
   ]
  },
  {
   "cell_type": "markdown",
   "metadata": {},
   "source": [
    "Get feature names and write a DataFrame with index -> name feature mapping"
   ]
  },
  {
   "cell_type": "code",
   "execution_count": 8,
   "metadata": {},
   "outputs": [],
   "source": [
    "feature_names = TextChunk(train['A'][0]).feature_names\n",
    "\n",
    "pd.DataFrame(data=feature_names, columns=['feature']).to_csv('../data/features/feature_names.csv')"
   ]
  },
  {
   "cell_type": "code",
   "execution_count": 16,
   "metadata": {},
   "outputs": [],
   "source": [
    "number_of_features = len(feature_names)\n",
    "assert number_of_features == 938\n",
    "\n",
    "a_columns_names = ['A_{}'.format(i) for i in range(number_of_features)]\n",
    "b_columns_names = ['B_{}'.format(i) for i in range(number_of_features)]\n",
    "imposters_column_names = ['I_{}'.format(i) for i in range(number_of_features)]"
   ]
  },
  {
   "cell_type": "markdown",
   "metadata": {},
   "source": [
    "Transform train texts to features and write as csv"
   ]
  },
  {
   "cell_type": "code",
   "execution_count": 17,
   "metadata": {},
   "outputs": [],
   "source": [
    "train['A'] = train['A'].apply(lambda text: TextChunk(text).to_vector())\n",
    "train['B'] = train['B'].apply(lambda text: TextChunk(text).to_vector())\n",
    "\n",
    "train_vectors = pd.concat([pd.DataFrame(train['A'].tolist(), columns=a_columns_names),\n",
    "                           pd.DataFrame(train['B'].tolist(), columns=b_columns_names),\n",
    "                           train['different_author']],\n",
    "                           axis=1)\n",
    "\n",
    "train_vectors.to_csv('../data/train_features.csv')"
   ]
  },
  {
   "cell_type": "markdown",
   "metadata": {},
   "source": [
    "Transform validation texts to features and write as csv"
   ]
  },
  {
   "cell_type": "code",
   "execution_count": 18,
   "metadata": {
    "collapsed": true
   },
   "outputs": [],
   "source": [
    "val['A'] = val['A'].apply(lambda text: TextChunk(text).to_vector())\n",
    "val['B'] = val['B'].apply(lambda text: TextChunk(text).to_vector())\n",
    "\n",
    "val_vectors = pd.concat([pd.DataFrame(val['A'].tolist(), columns=a_columns_names),\n",
    "                         pd.DataFrame(val['B'].tolist(), columns=b_columns_names),\n",
    "                         val['different_author']],\n",
    "                         axis=1)\n",
    "\n",
    "val_vectors.to_csv('../data/validation_features.csv')"
   ]
  },
  {
   "cell_type": "markdown",
   "metadata": {},
   "source": [
    "Clean imposters data:\n",
    "    - there were some imposters that had numbers instead of text\n",
    "    - remove imposters with len < 500"
   ]
  },
  {
   "cell_type": "code",
   "execution_count": 20,
   "metadata": {
    "collapsed": true
   },
   "outputs": [],
   "source": [
    "corrupted_imposters_indices = [6872, 6876]\n",
    "imposters.drop(corrupted_imposters_indices, inplace=True)\n",
    "\n",
    "imposters = imposters[imposters['text'].apply(lambda x: len(x) > 500)]"
   ]
  },
  {
   "cell_type": "markdown",
   "metadata": {},
   "source": [
    "Choose random 1000 imposters"
   ]
  },
  {
   "cell_type": "code",
   "execution_count": 22,
   "metadata": {},
   "outputs": [],
   "source": [
    "random_imposters = imposters.sample(n=1000, random_state=123)\n",
    "assert random_imposters.shape[0] == 1000"
   ]
  },
  {
   "cell_type": "markdown",
   "metadata": {},
   "source": [
    "Transform random 1000 imposters to vectors and write as csv"
   ]
  },
  {
   "cell_type": "code",
   "execution_count": 28,
   "metadata": {
    "collapsed": true
   },
   "outputs": [],
   "source": [
    "random_imposters['features'] = random_imposters['text'].apply(lambda text: TextChunk(text).to_vector())\n",
    "\n",
    "imposters_column_names = ['I_{}'.format(i) for i in range(number_of_features)]\n",
    "\n",
    "imposters_vectors = pd.DataFrame(random_imposters['features'].tolist(), columns=imposters_column_names)\n",
    "\n",
    "assert imposters_vectors.shape == (1000, 938)\n",
    "\n",
    "imposters_vectors.to_csv('../data/imposters/imposters_subset_features.csv')"
   ]
  }
 ],
 "metadata": {
  "kernelspec": {
   "display_name": "Python 3",
   "language": "python",
   "name": "python3"
  },
  "language_info": {
   "codemirror_mode": {
    "name": "ipython",
    "version": 3
   },
   "file_extension": ".py",
   "mimetype": "text/x-python",
   "name": "python",
   "nbconvert_exporter": "python",
   "pygments_lexer": "ipython3",
   "version": "3.6.1"
  }
 },
 "nbformat": 4,
 "nbformat_minor": 2
}
