{
 "cells": [
  {
   "cell_type": "code",
   "execution_count": 1,
   "metadata": {},
   "outputs": [],
   "source": [
    "import numpy as np\n",
    "import pandas as pd\n",
    "from scipy.spatial.distance import cosine, braycurtis, canberra, cityblock, chebyshev, minkowski\n",
    "import sklearn\n",
    "from sklearn.svm import SVC\n",
    "from sklearn.pipeline import Pipeline\n",
    "from sklearn.preprocessing import StandardScaler\n",
    "from sklearn.feature_selection import VarianceThreshold, SelectKBest"
   ]
  },
  {
   "cell_type": "code",
   "execution_count": 2,
   "metadata": {},
   "outputs": [],
   "source": [
    "train = pd.read_csv('../data/train_features_scaled_standard.csv', index_col=0)\n",
    "val = pd.read_csv('../data/validation_features_scaled_standard.csv', index_col=0)"
   ]
  },
  {
   "cell_type": "code",
   "execution_count": 3,
   "metadata": {},
   "outputs": [],
   "source": [
    "train_minmax = pd.read_csv('../data/train_features_scaled_minmax.csv', index_col=0)\n",
    "val_minmax = pd.read_csv('../data/validation_features_scaled_minmax.csv', index_col=0)"
   ]
  },
  {
   "cell_type": "code",
   "execution_count": 4,
   "metadata": {},
   "outputs": [],
   "source": [
    "number_of_features = int((train.shape[1] - 1) / 2)\n",
    "assert number_of_features == 938"
   ]
  },
  {
   "cell_type": "code",
   "execution_count": 5,
   "metadata": {},
   "outputs": [],
   "source": [
    "features = pd.read_csv('../data/features/prunned_RF_scores.csv', index_col=0)\n",
    "assert features.shape[0] == 938"
   ]
  },
  {
   "cell_type": "code",
   "execution_count": 6,
   "metadata": {},
   "outputs": [],
   "source": [
    "def minmax(a, b):\n",
    "    return sum(np.minimum(a, b)) / sum(np.maximum(a, b))\n",
    "\n",
    "def similarities(vectors, features):\n",
    "    a = [vectors['A_{}'.format(i)] for i in features]\n",
    "    b = [vectors['B_{}'.format(i)] for i in features]\n",
    "    \n",
    "    return (minmax(a,b),\n",
    "            cosine(a, b),\n",
    "            braycurtis(a, b),\n",
    "            canberra(a, b),\n",
    "            cityblock(a, b))"
   ]
  },
  {
   "cell_type": "markdown",
   "metadata": {},
   "source": [
    "## all features, standard scaling"
   ]
  },
  {
   "cell_type": "code",
   "execution_count": 7,
   "metadata": {},
   "outputs": [],
   "source": [
    "best_features = features.index\n",
    "similarity_measures = ['minmax_similarity', 'cosine_distance', 'braycurtis_distance',\n",
    "                               'canberra_distance', 'cityblock_distance']\n",
    "\n",
    "# computing train similarity measures\n",
    "train_similarities = train.apply(lambda vectors: similarities(vectors, best_features), axis=1).apply(pd.Series)\n",
    "train_similarities.columns = similarity_measures\n",
    "train_similarities['different_author'] = train['different_author']\n",
    "\n",
    "# computing val similarity measures\n",
    "val_similarities = val.apply(lambda vectors: similarities(vectors, best_features), axis=1).apply(pd.Series)\n",
    "val_similarities.columns = similarity_measures\n",
    "val_similarities['different_author'] = val['different_author']"
   ]
  },
  {
   "cell_type": "code",
   "execution_count": 8,
   "metadata": {},
   "outputs": [],
   "source": [
    "t_x = train_similarities[similarity_measures]\n",
    "t_y = train_similarities['different_author']\n",
    "v_x = val_similarities[similarity_measures]\n",
    "v_y = val_similarities['different_author']"
   ]
  },
  {
   "cell_type": "code",
   "execution_count": 9,
   "metadata": {},
   "outputs": [],
   "source": [
    "pipe = Pipeline([\n",
    "    ('scaler', StandardScaler()),\n",
    "#     ('var_filter', VarianceThreshold()),\n",
    "#     ('selector', SelectKBest()),\n",
    "    ('clf', SVC(probability=True)),\n",
    "])"
   ]
  },
  {
   "cell_type": "code",
   "execution_count": 10,
   "metadata": {},
   "outputs": [
    {
     "data": {
      "text/plain": [
       "Pipeline(memory=None,\n",
       "     steps=[('scaler', StandardScaler(copy=True, with_mean=True, with_std=True)), ('clf', SVC(C=1.0, cache_size=200, class_weight=None, coef0=0.0,\n",
       "  decision_function_shape='ovr', degree=3, gamma='auto', kernel='rbf',\n",
       "  max_iter=-1, probability=True, random_state=None, shrinking=True,\n",
       "  tol=0.001, verbose=False))])"
      ]
     },
     "execution_count": 10,
     "metadata": {},
     "output_type": "execute_result"
    }
   ],
   "source": [
    "pipe.fit(pd.concat([t_x, v_x]), pd.concat([t_y, v_y]))"
   ]
  },
  {
   "cell_type": "code",
   "execution_count": 11,
   "metadata": {},
   "outputs": [
    {
     "data": {
      "text/plain": [
       "0.7814087368777515"
      ]
     },
     "execution_count": 11,
     "metadata": {},
     "output_type": "execute_result"
    }
   ],
   "source": [
    "pipe.score(t_x, t_y)"
   ]
  },
  {
   "cell_type": "code",
   "execution_count": 12,
   "metadata": {},
   "outputs": [
    {
     "data": {
      "text/plain": [
       "['../data/models/svm.pk']"
      ]
     },
     "execution_count": 12,
     "metadata": {},
     "output_type": "execute_result"
    }
   ],
   "source": [
    "sklearn.externals.joblib.dump(pipe, '../data/models/svm.pk')"
   ]
  }
 ],
 "metadata": {
  "kernelspec": {
   "display_name": "Python 3",
   "language": "python",
   "name": "python3"
  },
  "language_info": {
   "codemirror_mode": {
    "name": "ipython",
    "version": 3
   },
   "file_extension": ".py",
   "mimetype": "text/x-python",
   "name": "python",
   "nbconvert_exporter": "python",
   "pygments_lexer": "ipython3",
   "version": "3.6.5"
  }
 },
 "nbformat": 4,
 "nbformat_minor": 2
}
