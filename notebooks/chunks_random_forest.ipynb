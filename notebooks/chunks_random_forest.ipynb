{
 "cells": [
  {
   "cell_type": "code",
   "execution_count": 1,
   "metadata": {},
   "outputs": [],
   "source": [
    "import numpy as np\n",
    "import pandas as pd\n",
    "from sklearn.ensemble import RandomForestClassifier\n",
    "from sklearn.model_selection import ShuffleSplit\n",
    "from sklearn.model_selection import train_test_split\n",
    "from sklearn.model_selection import cross_val_score"
   ]
  },
  {
   "cell_type": "code",
   "execution_count": 2,
   "metadata": {},
   "outputs": [],
   "source": [
    "df_train = pd.read_csv('../data/500_ngrams/train_features_scaled_standard.csv', index_col=0)\n",
    "df_val = pd.read_csv('../data/500_ngrams/validation_features_scaled_standard.csv', index_col=0)"
   ]
  },
  {
   "cell_type": "code",
   "execution_count": 3,
   "metadata": {},
   "outputs": [],
   "source": [
    "y_train = list(map(lambda y: int(y), df_train['different_author']))\n",
    "y_val = list(map(lambda y: int(y), df_val['different_author']))"
   ]
  },
  {
   "cell_type": "code",
   "execution_count": 4,
   "metadata": {},
   "outputs": [
    {
     "data": {
      "text/plain": [
       "935"
      ]
     },
     "execution_count": 4,
     "metadata": {},
     "output_type": "execute_result"
    }
   ],
   "source": [
    "N = int((len(df_train.columns) - 1) / 2)\n",
    "N"
   ]
  },
  {
   "cell_type": "code",
   "execution_count": 5,
   "metadata": {},
   "outputs": [],
   "source": [
    "df_train_a = df_train.iloc[:, :N]\n",
    "df_train_b = df_train.iloc[:, N:-1]\n",
    "\n",
    "df_train_a = df_train_a.rename(columns={x:y for x,y in zip(df_train_a.columns,range(0,len(df_train_a.columns)))})\n",
    "df_train_b = df_train_b.rename(columns={x:y for x,y in zip(df_train_b.columns,range(0,len(df_train_b.columns)))})\n",
    "\n",
    "\n",
    "df_val_a = df_val.iloc[:, :N]\n",
    "df_val_b = df_val.iloc[:, N:-1]\n",
    "\n",
    "df_val_a = df_val_a.rename(columns={x:y for x,y in zip(df_val_a.columns,range(0,len(df_val_a.columns)))})\n",
    "df_val_b = df_val_b.rename(columns={x:y for x,y in zip(df_val_b.columns,range(0,len(df_val_b.columns)))})"
   ]
  },
  {
   "cell_type": "code",
   "execution_count": 6,
   "metadata": {},
   "outputs": [],
   "source": [
    "df_train_sqdiff = (df_train_a - df_train_b) ** 2\n",
    "df_train_absdiff = abs(df_train_a - df_train_b)\n",
    "\n",
    "df_val_sqdiff = (df_val_a - df_val_b) ** 2\n",
    "df_val_absdiff = abs(df_val_a - df_val_b)"
   ]
  },
  {
   "cell_type": "code",
   "execution_count": 7,
   "metadata": {},
   "outputs": [],
   "source": [
    "del df_train\n",
    "del df_val\n",
    "del df_train_a\n",
    "del df_train_b\n",
    "del df_val_a\n",
    "del df_val_b"
   ]
  },
  {
   "cell_type": "code",
   "execution_count": 8,
   "metadata": {},
   "outputs": [],
   "source": [
    "X_train, X_val, y_train, y_val = train_test_split(\n",
    "    pd.concat([df_train_absdiff, df_val_absdiff]),\n",
    "    y_train + y_val,\n",
    "    test_size=0.4, random_state=42\n",
    ")"
   ]
  },
  {
   "cell_type": "code",
   "execution_count": 9,
   "metadata": {},
   "outputs": [],
   "source": [
    "clf = RandomForestClassifier(n_estimators=175)"
   ]
  },
  {
   "cell_type": "code",
   "execution_count": 10,
   "metadata": {},
   "outputs": [],
   "source": [
    "cv = ShuffleSplit(n_splits=10, test_size=0.4, random_state=42)"
   ]
  },
  {
   "cell_type": "code",
   "execution_count": 11,
   "metadata": {},
   "outputs": [
    {
     "name": "stdout",
     "output_type": "stream",
     "text": [
      "[CV]  ................................................................\n",
      "[CV]  ................................................................\n",
      "[CV]  ................................................................\n",
      "[CV]  ................................................................\n",
      "[CV] ....................... , score=0.7227208313651393, total=  10.6s\n",
      "[CV]  ................................................................\n",
      "[CV] ....................... , score=0.7383089277279169, total=  10.5s\n",
      "[CV]  ................................................................\n",
      "[CV] ....................... , score=0.7529522909777988, total=  10.7s\n",
      "[CV]  ................................................................\n",
      "[CV] ....................... , score=0.7392536608408125, total=  10.6s\n",
      "[CV]  ................................................................\n",
      "[CV] ....................... , score=0.7335852621634388, total=  10.5s\n",
      "[CV]  ................................................................\n"
     ]
    },
    {
     "name": "stderr",
     "output_type": "stream",
     "text": [
      "[Parallel(n_jobs=-1)]: Done   5 out of  10 | elapsed:   21.5s remaining:   21.5s\n"
     ]
    },
    {
     "name": "stdout",
     "output_type": "stream",
     "text": [
      "[CV] ....................... , score=0.7435049598488427, total=  10.5s\n",
      "[CV] ....................... , score=0.7463391591875296, total=  10.8s\n",
      "[CV]  ................................................................\n",
      "[CV] ....................... , score=0.7553141237600378, total=  10.6s\n"
     ]
    },
    {
     "name": "stderr",
     "output_type": "stream",
     "text": [
      "[Parallel(n_jobs=-1)]: Done   7 out of  10 | elapsed:   21.7s remaining:    9.3s\n"
     ]
    },
    {
     "name": "stdout",
     "output_type": "stream",
     "text": [
      "[CV] ....................... , score=0.7416154936230515, total=   7.1s\n",
      "[CV] ....................... , score=0.7704298535663675, total=   7.0s\n"
     ]
    },
    {
     "name": "stderr",
     "output_type": "stream",
     "text": [
      "[Parallel(n_jobs=-1)]: Done  10 out of  10 | elapsed:   28.7s finished\n"
     ]
    }
   ],
   "source": [
    "scores = cross_val_score(clf,\n",
    "                         X_train,\n",
    "                         y_train,\n",
    "                         cv=cv,\n",
    "                         n_jobs=-1,\n",
    "                         verbose=10)"
   ]
  },
  {
   "cell_type": "code",
   "execution_count": 12,
   "metadata": {},
   "outputs": [
    {
     "name": "stdout",
     "output_type": "stream",
     "text": [
      "Accuracy: 0.74 (+/- 0.02)\n"
     ]
    }
   ],
   "source": [
    "print(\"Accuracy: %0.2f (+/- %0.2f)\" % (scores.mean(), scores.std() * 2))"
   ]
  },
  {
   "cell_type": "code",
   "execution_count": 13,
   "metadata": {},
   "outputs": [],
   "source": [
    "clf = RandomForestClassifier(n_estimators=175)"
   ]
  },
  {
   "cell_type": "code",
   "execution_count": 14,
   "metadata": {},
   "outputs": [
    {
     "data": {
      "text/plain": [
       "RandomForestClassifier(bootstrap=True, class_weight=None, criterion='gini',\n",
       "            max_depth=None, max_features='auto', max_leaf_nodes=None,\n",
       "            min_impurity_decrease=0.0, min_impurity_split=None,\n",
       "            min_samples_leaf=1, min_samples_split=2,\n",
       "            min_weight_fraction_leaf=0.0, n_estimators=175, n_jobs=1,\n",
       "            oob_score=False, random_state=None, verbose=0,\n",
       "            warm_start=False)"
      ]
     },
     "execution_count": 14,
     "metadata": {},
     "output_type": "execute_result"
    }
   ],
   "source": [
    "clf.fit(X_train, y_train)"
   ]
  },
  {
   "cell_type": "code",
   "execution_count": 15,
   "metadata": {},
   "outputs": [
    {
     "data": {
      "text/plain": [
       "0.7605553981297818"
      ]
     },
     "execution_count": 15,
     "metadata": {},
     "output_type": "execute_result"
    }
   ],
   "source": [
    "clf.score(X_val, y_val)"
   ]
  }
 ],
 "metadata": {
  "kernelspec": {
   "display_name": "Python 3",
   "language": "python",
   "name": "python3"
  },
  "language_info": {
   "codemirror_mode": {
    "name": "ipython",
    "version": 3
   },
   "file_extension": ".py",
   "mimetype": "text/x-python",
   "name": "python",
   "nbconvert_exporter": "python",
   "pygments_lexer": "ipython3",
   "version": "3.6.5"
  }
 },
 "nbformat": 4,
 "nbformat_minor": 2
}
